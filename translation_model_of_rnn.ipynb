{
  "cells": [
    {
      "cell_type": "code",
      "execution_count": null,
      "metadata": {},
      "outputs": [],
      "source": [
        "print(\"test\")"
      ]
    },
    {
      "cell_type": "markdown",
      "metadata": {
        "colab_type": "text",
        "id": "view-in-github"
      },
      "source": [
        "<a href=\"https://colab.research.google.com/github/hatthebutterfly/Translator-seq2seq/blob/main/translation_model_of_rnn.ipynb\" target=\"_parent\"><img src=\"https://colab.research.google.com/assets/colab-badge.svg\" alt=\"Open In Colab\"/></a>"
      ]
    },
    {
      "cell_type": "markdown",
      "metadata": {
        "id": "Vv1QQS7bxEd3"
      },
      "source": [
        "### 參考連結\n",
        "1. [淺談神經機器翻譯& 用Transformer 與TensorFlow 2 英翻中](https://leemeng.tw/neural-machine-translation-with-transformer-and-tensorflow2.html)\n",
        "2. [Tensorflow 官方文檔](https://www.tensorflow.org/text/tutorials/nmt_with_attention)"
      ]
    },
    {
      "cell_type": "markdown",
      "metadata": {
        "id": "m0jkI_cXv2Jl"
      },
      "source": [
        "將需要的模組 import 出來"
      ]
    },
    {
      "cell_type": "code",
      "execution_count": null,
      "metadata": {
        "id": "wdJG87M_maXD"
      },
      "outputs": [],
      "source": [
        "import os\n",
        "import re\n",
        "import tensorflow as tf\n",
        "import tensorflow_datasets as tfds\n",
        "import pandas as pd\n",
        "import numpy as np\n",
        "import matplotlib as mpl\n",
        "import matplotlib.pyplot as plt\n",
        "from pprint import pprint\n",
        "from google.colab import drive\n",
        "from IPython.display import clear_output"
      ]
    },
    {
      "cell_type": "markdown",
      "metadata": {
        "id": "WOTVv5ibwM6g"
      },
      "source": [
        "### 資料集選取\n",
        "WMT19 資料集中有許多類型的資料集，如下所示。\n",
        "這裡我們將使用**新聞評論**作為訓練資料。"
      ]
    },
    {
      "cell_type": "code",
      "execution_count": null,
      "metadata": {
        "colab": {
          "base_uri": "https://localhost:8080/",
          "height": 233
        },
        "id": "xMdTsFZFrAXz",
        "outputId": "5db08006-f679-437c-dbd8-bbd71c7c8350"
      },
      "outputs": [
        {
          "name": "stdout",
          "output_type": "stream",
          "text": [
            "{Split('train'): ['newscommentary_v14',\n",
            "                  'wikititles_v1',\n",
            "                  'uncorpus_v1',\n",
            "                  'casia2015',\n",
            "                  'casict2011',\n",
            "                  'casict2015',\n",
            "                  'datum2015',\n",
            "                  'datum2017',\n",
            "                  'neu2017'],\n",
            " Split('validation'): ['newstest2018']}\n"
          ]
        },
        {
          "data": {
            "application/vnd.google.colaboratory.intrinsic+json": {
              "type": "string"
            },
            "text/plain": [
              "\"\\n**表示為文本資料集\\n[\\n   'newscommentary_v14',->新聞評論**\\n   'wikititles_v1',->維基百科**\\n   'uncorpus_v1',->聯合國**\\n   'casia2015',\\n   'casict2011',\\n   'casict2015',\\n   'datum2015',\\n   'datum2017',\\n   'neu2017'->表面缺陷資料集\\n],\""
            ]
          },
          "execution_count": 2,
          "metadata": {},
          "output_type": "execute_result"
        }
      ],
      "source": [
        "tmp_builder = tfds.builder(\"wmt19_translate/zh-en\")\n",
        "pprint(tmp_builder.subsets)\n",
        "\n",
        "'''\n",
        "**表示為文本資料集\n",
        "[\n",
        "   'newscommentary_v14',->新聞評論**\n",
        "   'wikititles_v1',->維基百科**\n",
        "   'uncorpus_v1',->聯合國**\n",
        "   'casia2015',\n",
        "   'casict2011',\n",
        "   'casict2015',\n",
        "   'datum2015',\n",
        "   'datum2017',\n",
        "   'neu2017'->表面缺陷資料集\n",
        "],'''"
      ]
    },
    {
      "cell_type": "code",
      "execution_count": null,
      "metadata": {
        "colab": {
          "base_uri": "https://localhost:8080/",
          "height": 1000,
          "referenced_widgets": [
            "63f9679369b24bcc859aadc266e4409a",
            "9bd5fd6e1da6464e98ac50da63acb796",
            "a0c1d729091a4e9e8bc1eaefbb15f834",
            "4d5c451b35a447b9b42327579da73731",
            "75ba7b1aa53a40e787f186402d4d7b68",
            "5bfc4dc3b6674db9a21a1051b4fa3760",
            "37b76dd935e343408231a465c3a44227",
            "a6ad00338196435d869a547f58086319",
            "ab506a170b2d4f9db0056133da87c89d",
            "e256ab9f0f0b446d80f718b49d79cf44",
            "f96ecc7299894f009bd7246962c96c16",
            "7b9432c5fed44a80ad833cac6b4ac4bd",
            "b9b5dff8e3454ba7afe8c823a8166ebd",
            "7b4e37f9166a4dbe82b973fbfee0a58e",
            "3c7005cfcbef4cf5b782ba215679249f",
            "a51724da06a64a99813eaf9579543c95",
            "4b10c065dacd4d5692449cbba35da0b8",
            "956a354b973b432c91d8eaed23e91087",
            "b3547e56f87d4d7fb83434012004944a",
            "38a502fd81ce45c492f4681aa65e9aa2",
            "31ab4591cf6d4fffada5a84bd4ad04b7",
            "c82836cb80534e2ca23f812ed89b1544",
            "747fba36f5f644bfafe9048f918fdb95",
            "3ee0b7ff55de461293baa82fa20cf339",
            "afaf0e1f790e42aa94bc62e2d532d525",
            "0041b9ef4de34f9b918684f56fda34a0",
            "bd366cd256944995ac6bc224b2a120c0",
            "76bf74c4b5f544dc8bed85aa08881df3",
            "99ad056f991c4317a445aa6afcb4af9e",
            "4d11d3ef14614fe6ae2c6d30a5f14401",
            "2abe0d1c85e54764b9ec3d0b92563937",
            "b3eaed5525724fbcbc2a21a328bd8665",
            "4a619b39e2f84ae1a1e55515d5eb5a98",
            "d6a09d169ff348eea57b0484d8f30ce3",
            "063f24abb78840fe81e5b3af62cdd91f",
            "345a66c750a44b34997ce9158d32ec58",
            "7482a467ba1f45e38589185827f01a5b",
            "744cbf4df444443fa6f404baadcbc04a",
            "37e42f36346d42609fef48121b8a9572",
            "6eab7daf87914f35bc5ab2e91ad639b6",
            "0c173956570b4d64892b979f0fa9b829",
            "c0d6e1aceb3743d8847c8d22d39b4e83",
            "8788e7c07c0342469c5950f8292c2111",
            "dd6df7ecba8a4562aeb02442dcd187d3",
            "ff9cf47b97104c0993c1141efce5a18b",
            "9bf05cc098074f68a398b263b212fd7c",
            "b993af6e04dd4eba9172b98402f42163",
            "5b81848a6f88455ebf57ac0d198930ee",
            "4759ad05049545019d026d231a8fb58c",
            "6d06900c679d4661b090a99b17a405f6",
            "848f262c38e04b18b6a64a305bf2db51",
            "03b6404437ed4808b69518c84f972754",
            "95c3a314471b40a8bc0772be5f7f49a7",
            "07ab5ea567684c9d9e013f2668f3b097",
            "9e47519fce5a4a7fbf89e7cfe6637134",
            "878505de5ad34294ad7bb53e3a0a765f",
            "c9338df404e54c1e83a2819da95737b8",
            "38c8ef116eee492a8f482687a85c74b4",
            "7c4a181b570b482ca903bc809c33cc73",
            "b75f5f31a62443e9aee6c02671d8f7f7",
            "c577e1a62c5c45c0a7c63668524f9251",
            "a901ea46ead84ea09e8adff2db7b951a",
            "0368977cfadc46ff8ab9a53f1a00a62b",
            "c518700810db456eb6121a31e740c2d6",
            "919ecc9d82b04cc1a43584357470ce8b",
            "60cdc4a08f8e4b44b071a854609ae1a4",
            "dce08377d7a44e17a25f389d17b5b0fa",
            "28680af4b2f744ebba46a0ae9c731e5a",
            "9fb33743a7b24da2a89989a424c39cf8",
            "8b3fe7bbd99e4e22818e33062c6f44af",
            "9c0cbdf5165b498d8968e5f146085d55",
            "1de7b9c8c89641c297d2f6381be76a29",
            "9ec1cdeab2554188832ca29f167b232a",
            "abff5d01813440d6a7b0d697b5a645be",
            "5ee93fa0eb374382ad2edc3b8ae2d01b",
            "e424aac192c34d60a81156c9181c4abc",
            "7906dc990fbc4384be62d2a3466c24d8"
          ]
        },
        "id": "A0U25lwIs8WA",
        "outputId": "c81ba37a-87b6-4374-d47e-f9a132ebc6ed"
      },
      "outputs": [
        {
          "name": "stderr",
          "output_type": "stream",
          "text": [
            "WARNING:absl:Using custom data configuration zh-en\n"
          ]
        },
        {
          "name": "stdout",
          "output_type": "stream",
          "text": [
            "Mounted at /content/drive\n",
            "Downloading and preparing dataset Unknown size (download: Unknown size, generated: Unknown size, total: Unknown size) to /root/tensorflow_datasets/wmt_translate/zh-en/0.0.3...\n"
          ]
        },
        {
          "data": {
            "application/vnd.jupyter.widget-view+json": {
              "model_id": "63f9679369b24bcc859aadc266e4409a",
              "version_major": 2,
              "version_minor": 0
            },
            "text/plain": [
              "Dl Completed...: 0 url [00:00, ? url/s]"
            ]
          },
          "metadata": {},
          "output_type": "display_data"
        },
        {
          "data": {
            "application/vnd.jupyter.widget-view+json": {
              "model_id": "7b9432c5fed44a80ad833cac6b4ac4bd",
              "version_major": 2,
              "version_minor": 0
            },
            "text/plain": [
              "Dl Size...: 0 MiB [00:00, ? MiB/s]"
            ]
          },
          "metadata": {},
          "output_type": "display_data"
        },
        {
          "data": {
            "application/vnd.jupyter.widget-view+json": {
              "model_id": "747fba36f5f644bfafe9048f918fdb95",
              "version_major": 2,
              "version_minor": 0
            },
            "text/plain": [
              "Extraction completed...: 0 file [00:00, ? file/s]"
            ]
          },
          "metadata": {},
          "output_type": "display_data"
        },
        {
          "data": {
            "application/vnd.jupyter.widget-view+json": {
              "model_id": "d6a09d169ff348eea57b0484d8f30ce3",
              "version_major": 2,
              "version_minor": 0
            },
            "text/plain": [
              "Extraction completed...: 0 file [00:00, ? file/s]"
            ]
          },
          "metadata": {},
          "output_type": "display_data"
        },
        {
          "data": {
            "application/vnd.jupyter.widget-view+json": {
              "model_id": "ff9cf47b97104c0993c1141efce5a18b",
              "version_major": 2,
              "version_minor": 0
            },
            "text/plain": [
              "Generating splits...:   0%|          | 0/1 [00:00<?, ? splits/s]"
            ]
          },
          "metadata": {},
          "output_type": "display_data"
        },
        {
          "data": {
            "application/vnd.jupyter.widget-view+json": {
              "model_id": "878505de5ad34294ad7bb53e3a0a765f",
              "version_major": 2,
              "version_minor": 0
            },
            "text/plain": [
              "Generating train examples...: 0 examples [00:00, ? examples/s]"
            ]
          },
          "metadata": {},
          "output_type": "display_data"
        },
        {
          "name": "stderr",
          "output_type": "stream",
          "text": [
            "WARNING:absl:Skipping line 9877 in TSV (/root/tensorflow_datasets/downloads/extracted/GZIP.data.stat.org_news-comm_v14_trai_news-comm-_JzD8orWKHLY7s4d_7EUj5crr2YhvIe6BJo64Kq0Als.gz) with 3 != 2 columns.\n",
            "WARNING:absl:Skipping line 9879 in TSV (/root/tensorflow_datasets/downloads/extracted/GZIP.data.stat.org_news-comm_v14_trai_news-comm-_JzD8orWKHLY7s4d_7EUj5crr2YhvIe6BJo64Kq0Als.gz) with 3 != 2 columns.\n",
            "WARNING:absl:Skipping line 9885 in TSV (/root/tensorflow_datasets/downloads/extracted/GZIP.data.stat.org_news-comm_v14_trai_news-comm-_JzD8orWKHLY7s4d_7EUj5crr2YhvIe6BJo64Kq0Als.gz) with 3 != 2 columns.\n",
            "WARNING:absl:Skipping line 9895 in TSV (/root/tensorflow_datasets/downloads/extracted/GZIP.data.stat.org_news-comm_v14_trai_news-comm-_JzD8orWKHLY7s4d_7EUj5crr2YhvIe6BJo64Kq0Als.gz) with 3 != 2 columns.\n",
            "WARNING:absl:Skipping line 9897 in TSV (/root/tensorflow_datasets/downloads/extracted/GZIP.data.stat.org_news-comm_v14_trai_news-comm-_JzD8orWKHLY7s4d_7EUj5crr2YhvIe6BJo64Kq0Als.gz) with 3 != 2 columns.\n",
            "WARNING:absl:Skipping line 9899 in TSV (/root/tensorflow_datasets/downloads/extracted/GZIP.data.stat.org_news-comm_v14_trai_news-comm-_JzD8orWKHLY7s4d_7EUj5crr2YhvIe6BJo64Kq0Als.gz) with 3 != 2 columns.\n",
            "WARNING:absl:Skipping line 9901 in TSV (/root/tensorflow_datasets/downloads/extracted/GZIP.data.stat.org_news-comm_v14_trai_news-comm-_JzD8orWKHLY7s4d_7EUj5crr2YhvIe6BJo64Kq0Als.gz) with 3 != 2 columns.\n",
            "WARNING:absl:Skipping line 9904 in TSV (/root/tensorflow_datasets/downloads/extracted/GZIP.data.stat.org_news-comm_v14_trai_news-comm-_JzD8orWKHLY7s4d_7EUj5crr2YhvIe6BJo64Kq0Als.gz) with 3 != 2 columns.\n",
            "WARNING:absl:Skipping line 20980 in TSV (/root/tensorflow_datasets/downloads/extracted/GZIP.data.stat.org_news-comm_v14_trai_news-comm-_JzD8orWKHLY7s4d_7EUj5crr2YhvIe6BJo64Kq0Als.gz) with 3 != 2 columns.\n",
            "WARNING:absl:Skipping line 20984 in TSV (/root/tensorflow_datasets/downloads/extracted/GZIP.data.stat.org_news-comm_v14_trai_news-comm-_JzD8orWKHLY7s4d_7EUj5crr2YhvIe6BJo64Kq0Als.gz) with 3 != 2 columns.\n",
            "WARNING:absl:Skipping line 21001 in TSV (/root/tensorflow_datasets/downloads/extracted/GZIP.data.stat.org_news-comm_v14_trai_news-comm-_JzD8orWKHLY7s4d_7EUj5crr2YhvIe6BJo64Kq0Als.gz) with 3 != 2 columns.\n",
            "WARNING:absl:Skipping line 33093 in TSV (/root/tensorflow_datasets/downloads/extracted/GZIP.data.stat.org_news-comm_v14_trai_news-comm-_JzD8orWKHLY7s4d_7EUj5crr2YhvIe6BJo64Kq0Als.gz) with 3 != 2 columns.\n",
            "WARNING:absl:Skipping line 43506 in TSV (/root/tensorflow_datasets/downloads/extracted/GZIP.data.stat.org_news-comm_v14_trai_news-comm-_JzD8orWKHLY7s4d_7EUj5crr2YhvIe6BJo64Kq0Als.gz) with 3 != 2 columns.\n",
            "WARNING:absl:Skipping line 43536 in TSV (/root/tensorflow_datasets/downloads/extracted/GZIP.data.stat.org_news-comm_v14_trai_news-comm-_JzD8orWKHLY7s4d_7EUj5crr2YhvIe6BJo64Kq0Als.gz) with 3 != 2 columns.\n",
            "WARNING:absl:Skipping line 44024 in TSV (/root/tensorflow_datasets/downloads/extracted/GZIP.data.stat.org_news-comm_v14_trai_news-comm-_JzD8orWKHLY7s4d_7EUj5crr2YhvIe6BJo64Kq0Als.gz) with 3 != 2 columns.\n",
            "WARNING:absl:Skipping line 44030 in TSV (/root/tensorflow_datasets/downloads/extracted/GZIP.data.stat.org_news-comm_v14_trai_news-comm-_JzD8orWKHLY7s4d_7EUj5crr2YhvIe6BJo64Kq0Als.gz) with 3 != 2 columns.\n",
            "WARNING:absl:Skipping line 44031 in TSV (/root/tensorflow_datasets/downloads/extracted/GZIP.data.stat.org_news-comm_v14_trai_news-comm-_JzD8orWKHLY7s4d_7EUj5crr2YhvIe6BJo64Kq0Als.gz) with 3 != 2 columns.\n",
            "WARNING:absl:Skipping line 44047 in TSV (/root/tensorflow_datasets/downloads/extracted/GZIP.data.stat.org_news-comm_v14_trai_news-comm-_JzD8orWKHLY7s4d_7EUj5crr2YhvIe6BJo64Kq0Als.gz) with 3 != 2 columns.\n",
            "WARNING:absl:Skipping line 44052 in TSV (/root/tensorflow_datasets/downloads/extracted/GZIP.data.stat.org_news-comm_v14_trai_news-comm-_JzD8orWKHLY7s4d_7EUj5crr2YhvIe6BJo64Kq0Als.gz) with 3 != 2 columns.\n",
            "WARNING:absl:Skipping line 44055 in TSV (/root/tensorflow_datasets/downloads/extracted/GZIP.data.stat.org_news-comm_v14_trai_news-comm-_JzD8orWKHLY7s4d_7EUj5crr2YhvIe6BJo64Kq0Als.gz) with 3 != 2 columns.\n",
            "WARNING:absl:Skipping line 47332 in TSV (/root/tensorflow_datasets/downloads/extracted/GZIP.data.stat.org_news-comm_v14_trai_news-comm-_JzD8orWKHLY7s4d_7EUj5crr2YhvIe6BJo64Kq0Als.gz) with 3 != 2 columns.\n",
            "WARNING:absl:Skipping line 56087 in TSV (/root/tensorflow_datasets/downloads/extracted/GZIP.data.stat.org_news-comm_v14_trai_news-comm-_JzD8orWKHLY7s4d_7EUj5crr2YhvIe6BJo64Kq0Als.gz) with 3 != 2 columns.\n",
            "WARNING:absl:Skipping line 56090 in TSV (/root/tensorflow_datasets/downloads/extracted/GZIP.data.stat.org_news-comm_v14_trai_news-comm-_JzD8orWKHLY7s4d_7EUj5crr2YhvIe6BJo64Kq0Als.gz) with 3 != 2 columns.\n",
            "WARNING:absl:Skipping line 56091 in TSV (/root/tensorflow_datasets/downloads/extracted/GZIP.data.stat.org_news-comm_v14_trai_news-comm-_JzD8orWKHLY7s4d_7EUj5crr2YhvIe6BJo64Kq0Als.gz) with 3 != 2 columns.\n",
            "WARNING:absl:Skipping line 56096 in TSV (/root/tensorflow_datasets/downloads/extracted/GZIP.data.stat.org_news-comm_v14_trai_news-comm-_JzD8orWKHLY7s4d_7EUj5crr2YhvIe6BJo64Kq0Als.gz) with 3 != 2 columns.\n",
            "WARNING:absl:Skipping line 56102 in TSV (/root/tensorflow_datasets/downloads/extracted/GZIP.data.stat.org_news-comm_v14_trai_news-comm-_JzD8orWKHLY7s4d_7EUj5crr2YhvIe6BJo64Kq0Als.gz) with 3 != 2 columns.\n",
            "WARNING:absl:Skipping line 56106 in TSV (/root/tensorflow_datasets/downloads/extracted/GZIP.data.stat.org_news-comm_v14_trai_news-comm-_JzD8orWKHLY7s4d_7EUj5crr2YhvIe6BJo64Kq0Als.gz) with 3 != 2 columns.\n",
            "WARNING:absl:Skipping line 56108 in TSV (/root/tensorflow_datasets/downloads/extracted/GZIP.data.stat.org_news-comm_v14_trai_news-comm-_JzD8orWKHLY7s4d_7EUj5crr2YhvIe6BJo64Kq0Als.gz) with 3 != 2 columns.\n",
            "WARNING:absl:Skipping line 56111 in TSV (/root/tensorflow_datasets/downloads/extracted/GZIP.data.stat.org_news-comm_v14_trai_news-comm-_JzD8orWKHLY7s4d_7EUj5crr2YhvIe6BJo64Kq0Als.gz) with 3 != 2 columns.\n",
            "WARNING:absl:Skipping line 56123 in TSV (/root/tensorflow_datasets/downloads/extracted/GZIP.data.stat.org_news-comm_v14_trai_news-comm-_JzD8orWKHLY7s4d_7EUj5crr2YhvIe6BJo64Kq0Als.gz) with 3 != 2 columns.\n",
            "WARNING:absl:Skipping line 58392 in TSV (/root/tensorflow_datasets/downloads/extracted/GZIP.data.stat.org_news-comm_v14_trai_news-comm-_JzD8orWKHLY7s4d_7EUj5crr2YhvIe6BJo64Kq0Als.gz) with 3 != 2 columns.\n",
            "WARNING:absl:Skipping line 58395 in TSV (/root/tensorflow_datasets/downloads/extracted/GZIP.data.stat.org_news-comm_v14_trai_news-comm-_JzD8orWKHLY7s4d_7EUj5crr2YhvIe6BJo64Kq0Als.gz) with 3 != 2 columns.\n",
            "WARNING:absl:Skipping line 58398 in TSV (/root/tensorflow_datasets/downloads/extracted/GZIP.data.stat.org_news-comm_v14_trai_news-comm-_JzD8orWKHLY7s4d_7EUj5crr2YhvIe6BJo64Kq0Als.gz) with 3 != 2 columns.\n",
            "WARNING:absl:Skipping line 58408 in TSV (/root/tensorflow_datasets/downloads/extracted/GZIP.data.stat.org_news-comm_v14_trai_news-comm-_JzD8orWKHLY7s4d_7EUj5crr2YhvIe6BJo64Kq0Als.gz) with 3 != 2 columns.\n",
            "WARNING:absl:Skipping line 58410 in TSV (/root/tensorflow_datasets/downloads/extracted/GZIP.data.stat.org_news-comm_v14_trai_news-comm-_JzD8orWKHLY7s4d_7EUj5crr2YhvIe6BJo64Kq0Als.gz) with 3 != 2 columns.\n",
            "WARNING:absl:Skipping line 59893 in TSV (/root/tensorflow_datasets/downloads/extracted/GZIP.data.stat.org_news-comm_v14_trai_news-comm-_JzD8orWKHLY7s4d_7EUj5crr2YhvIe6BJo64Kq0Als.gz) with 4 != 2 columns.\n",
            "WARNING:absl:Skipping line 59894 in TSV (/root/tensorflow_datasets/downloads/extracted/GZIP.data.stat.org_news-comm_v14_trai_news-comm-_JzD8orWKHLY7s4d_7EUj5crr2YhvIe6BJo64Kq0Als.gz) with 4 != 2 columns.\n",
            "WARNING:absl:Skipping line 59899 in TSV (/root/tensorflow_datasets/downloads/extracted/GZIP.data.stat.org_news-comm_v14_trai_news-comm-_JzD8orWKHLY7s4d_7EUj5crr2YhvIe6BJo64Kq0Als.gz) with 4 != 2 columns.\n",
            "WARNING:absl:Skipping line 59904 in TSV (/root/tensorflow_datasets/downloads/extracted/GZIP.data.stat.org_news-comm_v14_trai_news-comm-_JzD8orWKHLY7s4d_7EUj5crr2YhvIe6BJo64Kq0Als.gz) with 4 != 2 columns.\n",
            "WARNING:absl:Skipping line 59908 in TSV (/root/tensorflow_datasets/downloads/extracted/GZIP.data.stat.org_news-comm_v14_trai_news-comm-_JzD8orWKHLY7s4d_7EUj5crr2YhvIe6BJo64Kq0Als.gz) with 4 != 2 columns.\n",
            "WARNING:absl:Skipping line 59910 in TSV (/root/tensorflow_datasets/downloads/extracted/GZIP.data.stat.org_news-comm_v14_trai_news-comm-_JzD8orWKHLY7s4d_7EUj5crr2YhvIe6BJo64Kq0Als.gz) with 4 != 2 columns.\n",
            "WARNING:absl:Skipping line 89706 in TSV (/root/tensorflow_datasets/downloads/extracted/GZIP.data.stat.org_news-comm_v14_trai_news-comm-_JzD8orWKHLY7s4d_7EUj5crr2YhvIe6BJo64Kq0Als.gz) with 3 != 2 columns.\n",
            "WARNING:absl:Skipping line 90207 in TSV (/root/tensorflow_datasets/downloads/extracted/GZIP.data.stat.org_news-comm_v14_trai_news-comm-_JzD8orWKHLY7s4d_7EUj5crr2YhvIe6BJo64Kq0Als.gz) with 3 != 2 columns.\n",
            "WARNING:absl:Skipping line 90209 in TSV (/root/tensorflow_datasets/downloads/extracted/GZIP.data.stat.org_news-comm_v14_trai_news-comm-_JzD8orWKHLY7s4d_7EUj5crr2YhvIe6BJo64Kq0Als.gz) with 3 != 2 columns.\n",
            "WARNING:absl:Skipping line 90213 in TSV (/root/tensorflow_datasets/downloads/extracted/GZIP.data.stat.org_news-comm_v14_trai_news-comm-_JzD8orWKHLY7s4d_7EUj5crr2YhvIe6BJo64Kq0Als.gz) with 3 != 2 columns.\n",
            "WARNING:absl:Skipping line 90214 in TSV (/root/tensorflow_datasets/downloads/extracted/GZIP.data.stat.org_news-comm_v14_trai_news-comm-_JzD8orWKHLY7s4d_7EUj5crr2YhvIe6BJo64Kq0Als.gz) with 3 != 2 columns.\n",
            "WARNING:absl:Skipping line 93251 in TSV (/root/tensorflow_datasets/downloads/extracted/GZIP.data.stat.org_news-comm_v14_trai_news-comm-_JzD8orWKHLY7s4d_7EUj5crr2YhvIe6BJo64Kq0Als.gz) with 3 != 2 columns.\n",
            "WARNING:absl:Skipping line 93256 in TSV (/root/tensorflow_datasets/downloads/extracted/GZIP.data.stat.org_news-comm_v14_trai_news-comm-_JzD8orWKHLY7s4d_7EUj5crr2YhvIe6BJo64Kq0Als.gz) with 3 != 2 columns.\n",
            "WARNING:absl:Skipping line 93271 in TSV (/root/tensorflow_datasets/downloads/extracted/GZIP.data.stat.org_news-comm_v14_trai_news-comm-_JzD8orWKHLY7s4d_7EUj5crr2YhvIe6BJo64Kq0Als.gz) with 3 != 2 columns.\n",
            "WARNING:absl:Skipping line 95083 in TSV (/root/tensorflow_datasets/downloads/extracted/GZIP.data.stat.org_news-comm_v14_trai_news-comm-_JzD8orWKHLY7s4d_7EUj5crr2YhvIe6BJo64Kq0Als.gz) with 3 != 2 columns.\n",
            "WARNING:absl:Skipping line 95090 in TSV (/root/tensorflow_datasets/downloads/extracted/GZIP.data.stat.org_news-comm_v14_trai_news-comm-_JzD8orWKHLY7s4d_7EUj5crr2YhvIe6BJo64Kq0Als.gz) with 3 != 2 columns.\n",
            "WARNING:absl:Skipping line 95092 in TSV (/root/tensorflow_datasets/downloads/extracted/GZIP.data.stat.org_news-comm_v14_trai_news-comm-_JzD8orWKHLY7s4d_7EUj5crr2YhvIe6BJo64Kq0Als.gz) with 3 != 2 columns.\n",
            "WARNING:absl:Skipping line 95096 in TSV (/root/tensorflow_datasets/downloads/extracted/GZIP.data.stat.org_news-comm_v14_trai_news-comm-_JzD8orWKHLY7s4d_7EUj5crr2YhvIe6BJo64Kq0Als.gz) with 3 != 2 columns.\n",
            "WARNING:absl:Skipping line 95102 in TSV (/root/tensorflow_datasets/downloads/extracted/GZIP.data.stat.org_news-comm_v14_trai_news-comm-_JzD8orWKHLY7s4d_7EUj5crr2YhvIe6BJo64Kq0Als.gz) with 3 != 2 columns.\n",
            "WARNING:absl:Skipping line 95973 in TSV (/root/tensorflow_datasets/downloads/extracted/GZIP.data.stat.org_news-comm_v14_trai_news-comm-_JzD8orWKHLY7s4d_7EUj5crr2YhvIe6BJo64Kq0Als.gz) with 4 != 2 columns.\n",
            "WARNING:absl:Skipping line 95978 in TSV (/root/tensorflow_datasets/downloads/extracted/GZIP.data.stat.org_news-comm_v14_trai_news-comm-_JzD8orWKHLY7s4d_7EUj5crr2YhvIe6BJo64Kq0Als.gz) with 4 != 2 columns.\n",
            "WARNING:absl:Skipping line 95981 in TSV (/root/tensorflow_datasets/downloads/extracted/GZIP.data.stat.org_news-comm_v14_trai_news-comm-_JzD8orWKHLY7s4d_7EUj5crr2YhvIe6BJo64Kq0Als.gz) with 4 != 2 columns.\n",
            "WARNING:absl:Skipping line 95983 in TSV (/root/tensorflow_datasets/downloads/extracted/GZIP.data.stat.org_news-comm_v14_trai_news-comm-_JzD8orWKHLY7s4d_7EUj5crr2YhvIe6BJo64Kq0Als.gz) with 4 != 2 columns.\n",
            "WARNING:absl:Skipping line 96001 in TSV (/root/tensorflow_datasets/downloads/extracted/GZIP.data.stat.org_news-comm_v14_trai_news-comm-_JzD8orWKHLY7s4d_7EUj5crr2YhvIe6BJo64Kq0Als.gz) with 4 != 2 columns.\n",
            "WARNING:absl:Skipping line 96006 in TSV (/root/tensorflow_datasets/downloads/extracted/GZIP.data.stat.org_news-comm_v14_trai_news-comm-_JzD8orWKHLY7s4d_7EUj5crr2YhvIe6BJo64Kq0Als.gz) with 4 != 2 columns.\n",
            "WARNING:absl:Skipping line 109272 in TSV (/root/tensorflow_datasets/downloads/extracted/GZIP.data.stat.org_news-comm_v14_trai_news-comm-_JzD8orWKHLY7s4d_7EUj5crr2YhvIe6BJo64Kq0Als.gz) with 3 != 2 columns.\n",
            "WARNING:absl:Skipping line 109274 in TSV (/root/tensorflow_datasets/downloads/extracted/GZIP.data.stat.org_news-comm_v14_trai_news-comm-_JzD8orWKHLY7s4d_7EUj5crr2YhvIe6BJo64Kq0Als.gz) with 3 != 2 columns.\n",
            "WARNING:absl:Skipping line 109293 in TSV (/root/tensorflow_datasets/downloads/extracted/GZIP.data.stat.org_news-comm_v14_trai_news-comm-_JzD8orWKHLY7s4d_7EUj5crr2YhvIe6BJo64Kq0Als.gz) with 3 != 2 columns.\n",
            "WARNING:absl:Skipping line 109733 in TSV (/root/tensorflow_datasets/downloads/extracted/GZIP.data.stat.org_news-comm_v14_trai_news-comm-_JzD8orWKHLY7s4d_7EUj5crr2YhvIe6BJo64Kq0Als.gz) with 3 != 2 columns.\n",
            "WARNING:absl:Skipping line 109736 in TSV (/root/tensorflow_datasets/downloads/extracted/GZIP.data.stat.org_news-comm_v14_trai_news-comm-_JzD8orWKHLY7s4d_7EUj5crr2YhvIe6BJo64Kq0Als.gz) with 3 != 2 columns.\n",
            "WARNING:absl:Skipping line 109760 in TSV (/root/tensorflow_datasets/downloads/extracted/GZIP.data.stat.org_news-comm_v14_trai_news-comm-_JzD8orWKHLY7s4d_7EUj5crr2YhvIe6BJo64Kq0Als.gz) with 3 != 2 columns.\n",
            "WARNING:absl:Skipping line 109762 in TSV (/root/tensorflow_datasets/downloads/extracted/GZIP.data.stat.org_news-comm_v14_trai_news-comm-_JzD8orWKHLY7s4d_7EUj5crr2YhvIe6BJo64Kq0Als.gz) with 3 != 2 columns.\n",
            "WARNING:absl:Skipping line 111176 in TSV (/root/tensorflow_datasets/downloads/extracted/GZIP.data.stat.org_news-comm_v14_trai_news-comm-_JzD8orWKHLY7s4d_7EUj5crr2YhvIe6BJo64Kq0Als.gz) with 3 != 2 columns.\n",
            "WARNING:absl:Skipping line 119899 in TSV (/root/tensorflow_datasets/downloads/extracted/GZIP.data.stat.org_news-comm_v14_trai_news-comm-_JzD8orWKHLY7s4d_7EUj5crr2YhvIe6BJo64Kq0Als.gz) with 3 != 2 columns.\n",
            "WARNING:absl:Skipping line 119906 in TSV (/root/tensorflow_datasets/downloads/extracted/GZIP.data.stat.org_news-comm_v14_trai_news-comm-_JzD8orWKHLY7s4d_7EUj5crr2YhvIe6BJo64Kq0Als.gz) with 3 != 2 columns.\n",
            "WARNING:absl:Skipping line 119916 in TSV (/root/tensorflow_datasets/downloads/extracted/GZIP.data.stat.org_news-comm_v14_trai_news-comm-_JzD8orWKHLY7s4d_7EUj5crr2YhvIe6BJo64Kq0Als.gz) with 3 != 2 columns.\n",
            "WARNING:absl:Skipping line 122603 in TSV (/root/tensorflow_datasets/downloads/extracted/GZIP.data.stat.org_news-comm_v14_trai_news-comm-_JzD8orWKHLY7s4d_7EUj5crr2YhvIe6BJo64Kq0Als.gz) with 3 != 2 columns.\n",
            "WARNING:absl:Skipping line 122607 in TSV (/root/tensorflow_datasets/downloads/extracted/GZIP.data.stat.org_news-comm_v14_trai_news-comm-_JzD8orWKHLY7s4d_7EUj5crr2YhvIe6BJo64Kq0Als.gz) with 3 != 2 columns.\n",
            "WARNING:absl:Skipping line 122619 in TSV (/root/tensorflow_datasets/downloads/extracted/GZIP.data.stat.org_news-comm_v14_trai_news-comm-_JzD8orWKHLY7s4d_7EUj5crr2YhvIe6BJo64Kq0Als.gz) with 3 != 2 columns.\n",
            "WARNING:absl:Skipping line 122977 in TSV (/root/tensorflow_datasets/downloads/extracted/GZIP.data.stat.org_news-comm_v14_trai_news-comm-_JzD8orWKHLY7s4d_7EUj5crr2YhvIe6BJo64Kq0Als.gz) with 4 != 2 columns.\n",
            "WARNING:absl:Skipping line 122978 in TSV (/root/tensorflow_datasets/downloads/extracted/GZIP.data.stat.org_news-comm_v14_trai_news-comm-_JzD8orWKHLY7s4d_7EUj5crr2YhvIe6BJo64Kq0Als.gz) with 3 != 2 columns.\n",
            "WARNING:absl:Skipping line 129368 in TSV (/root/tensorflow_datasets/downloads/extracted/GZIP.data.stat.org_news-comm_v14_trai_news-comm-_JzD8orWKHLY7s4d_7EUj5crr2YhvIe6BJo64Kq0Als.gz) with 3 != 2 columns.\n",
            "WARNING:absl:Skipping line 144712 in TSV (/root/tensorflow_datasets/downloads/extracted/GZIP.data.stat.org_news-comm_v14_trai_news-comm-_JzD8orWKHLY7s4d_7EUj5crr2YhvIe6BJo64Kq0Als.gz) with 3 != 2 columns.\n",
            "WARNING:absl:Skipping line 144730 in TSV (/root/tensorflow_datasets/downloads/extracted/GZIP.data.stat.org_news-comm_v14_trai_news-comm-_JzD8orWKHLY7s4d_7EUj5crr2YhvIe6BJo64Kq0Als.gz) with 3 != 2 columns.\n",
            "WARNING:absl:Skipping line 144732 in TSV (/root/tensorflow_datasets/downloads/extracted/GZIP.data.stat.org_news-comm_v14_trai_news-comm-_JzD8orWKHLY7s4d_7EUj5crr2YhvIe6BJo64Kq0Als.gz) with 3 != 2 columns.\n",
            "WARNING:absl:Skipping line 144941 in TSV (/root/tensorflow_datasets/downloads/extracted/GZIP.data.stat.org_news-comm_v14_trai_news-comm-_JzD8orWKHLY7s4d_7EUj5crr2YhvIe6BJo64Kq0Als.gz) with 3 != 2 columns.\n",
            "WARNING:absl:Skipping line 144948 in TSV (/root/tensorflow_datasets/downloads/extracted/GZIP.data.stat.org_news-comm_v14_trai_news-comm-_JzD8orWKHLY7s4d_7EUj5crr2YhvIe6BJo64Kq0Als.gz) with 3 != 2 columns.\n",
            "WARNING:absl:Skipping line 144956 in TSV (/root/tensorflow_datasets/downloads/extracted/GZIP.data.stat.org_news-comm_v14_trai_news-comm-_JzD8orWKHLY7s4d_7EUj5crr2YhvIe6BJo64Kq0Als.gz) with 3 != 2 columns.\n",
            "WARNING:absl:Skipping line 144964 in TSV (/root/tensorflow_datasets/downloads/extracted/GZIP.data.stat.org_news-comm_v14_trai_news-comm-_JzD8orWKHLY7s4d_7EUj5crr2YhvIe6BJo64Kq0Als.gz) with 3 != 2 columns.\n",
            "WARNING:absl:Skipping line 144971 in TSV (/root/tensorflow_datasets/downloads/extracted/GZIP.data.stat.org_news-comm_v14_trai_news-comm-_JzD8orWKHLY7s4d_7EUj5crr2YhvIe6BJo64Kq0Als.gz) with 3 != 2 columns.\n",
            "WARNING:absl:Skipping line 144976 in TSV (/root/tensorflow_datasets/downloads/extracted/GZIP.data.stat.org_news-comm_v14_trai_news-comm-_JzD8orWKHLY7s4d_7EUj5crr2YhvIe6BJo64Kq0Als.gz) with 3 != 2 columns.\n",
            "WARNING:absl:Skipping line 149501 in TSV (/root/tensorflow_datasets/downloads/extracted/GZIP.data.stat.org_news-comm_v14_trai_news-comm-_JzD8orWKHLY7s4d_7EUj5crr2YhvIe6BJo64Kq0Als.gz) with 3 != 2 columns.\n",
            "WARNING:absl:Skipping line 149504 in TSV (/root/tensorflow_datasets/downloads/extracted/GZIP.data.stat.org_news-comm_v14_trai_news-comm-_JzD8orWKHLY7s4d_7EUj5crr2YhvIe6BJo64Kq0Als.gz) with 3 != 2 columns.\n",
            "WARNING:absl:Skipping line 149512 in TSV (/root/tensorflow_datasets/downloads/extracted/GZIP.data.stat.org_news-comm_v14_trai_news-comm-_JzD8orWKHLY7s4d_7EUj5crr2YhvIe6BJo64Kq0Als.gz) with 3 != 2 columns.\n",
            "WARNING:absl:Skipping line 149516 in TSV (/root/tensorflow_datasets/downloads/extracted/GZIP.data.stat.org_news-comm_v14_trai_news-comm-_JzD8orWKHLY7s4d_7EUj5crr2YhvIe6BJo64Kq0Als.gz) with 3 != 2 columns.\n",
            "WARNING:absl:Skipping line 154158 in TSV (/root/tensorflow_datasets/downloads/extracted/GZIP.data.stat.org_news-comm_v14_trai_news-comm-_JzD8orWKHLY7s4d_7EUj5crr2YhvIe6BJo64Kq0Als.gz) with 3 != 2 columns.\n",
            "WARNING:absl:Skipping line 154163 in TSV (/root/tensorflow_datasets/downloads/extracted/GZIP.data.stat.org_news-comm_v14_trai_news-comm-_JzD8orWKHLY7s4d_7EUj5crr2YhvIe6BJo64Kq0Als.gz) with 3 != 2 columns.\n",
            "WARNING:absl:Skipping line 154169 in TSV (/root/tensorflow_datasets/downloads/extracted/GZIP.data.stat.org_news-comm_v14_trai_news-comm-_JzD8orWKHLY7s4d_7EUj5crr2YhvIe6BJo64Kq0Als.gz) with 3 != 2 columns.\n",
            "WARNING:absl:Skipping line 164591 in TSV (/root/tensorflow_datasets/downloads/extracted/GZIP.data.stat.org_news-comm_v14_trai_news-comm-_JzD8orWKHLY7s4d_7EUj5crr2YhvIe6BJo64Kq0Als.gz) with 3 != 2 columns.\n",
            "WARNING:absl:Skipping line 164593 in TSV (/root/tensorflow_datasets/downloads/extracted/GZIP.data.stat.org_news-comm_v14_trai_news-comm-_JzD8orWKHLY7s4d_7EUj5crr2YhvIe6BJo64Kq0Als.gz) with 3 != 2 columns.\n",
            "WARNING:absl:Skipping line 164596 in TSV (/root/tensorflow_datasets/downloads/extracted/GZIP.data.stat.org_news-comm_v14_trai_news-comm-_JzD8orWKHLY7s4d_7EUj5crr2YhvIe6BJo64Kq0Als.gz) with 3 != 2 columns.\n",
            "WARNING:absl:Skipping line 164598 in TSV (/root/tensorflow_datasets/downloads/extracted/GZIP.data.stat.org_news-comm_v14_trai_news-comm-_JzD8orWKHLY7s4d_7EUj5crr2YhvIe6BJo64Kq0Als.gz) with 3 != 2 columns.\n",
            "WARNING:absl:Skipping line 164601 in TSV (/root/tensorflow_datasets/downloads/extracted/GZIP.data.stat.org_news-comm_v14_trai_news-comm-_JzD8orWKHLY7s4d_7EUj5crr2YhvIe6BJo64Kq0Als.gz) with 3 != 2 columns.\n",
            "WARNING:absl:Skipping line 164603 in TSV (/root/tensorflow_datasets/downloads/extracted/GZIP.data.stat.org_news-comm_v14_trai_news-comm-_JzD8orWKHLY7s4d_7EUj5crr2YhvIe6BJo64Kq0Als.gz) with 3 != 2 columns.\n",
            "WARNING:absl:Skipping line 164605 in TSV (/root/tensorflow_datasets/downloads/extracted/GZIP.data.stat.org_news-comm_v14_trai_news-comm-_JzD8orWKHLY7s4d_7EUj5crr2YhvIe6BJo64Kq0Als.gz) with 3 != 2 columns.\n",
            "WARNING:absl:Skipping line 164613 in TSV (/root/tensorflow_datasets/downloads/extracted/GZIP.data.stat.org_news-comm_v14_trai_news-comm-_JzD8orWKHLY7s4d_7EUj5crr2YhvIe6BJo64Kq0Als.gz) with 3 != 2 columns.\n",
            "WARNING:absl:Skipping line 164617 in TSV (/root/tensorflow_datasets/downloads/extracted/GZIP.data.stat.org_news-comm_v14_trai_news-comm-_JzD8orWKHLY7s4d_7EUj5crr2YhvIe6BJo64Kq0Als.gz) with 3 != 2 columns.\n",
            "WARNING:absl:Skipping line 164621 in TSV (/root/tensorflow_datasets/downloads/extracted/GZIP.data.stat.org_news-comm_v14_trai_news-comm-_JzD8orWKHLY7s4d_7EUj5crr2YhvIe6BJo64Kq0Als.gz) with 3 != 2 columns.\n",
            "WARNING:absl:Skipping line 164622 in TSV (/root/tensorflow_datasets/downloads/extracted/GZIP.data.stat.org_news-comm_v14_trai_news-comm-_JzD8orWKHLY7s4d_7EUj5crr2YhvIe6BJo64Kq0Als.gz) with 3 != 2 columns.\n",
            "WARNING:absl:Skipping line 168821 in TSV (/root/tensorflow_datasets/downloads/extracted/GZIP.data.stat.org_news-comm_v14_trai_news-comm-_JzD8orWKHLY7s4d_7EUj5crr2YhvIe6BJo64Kq0Als.gz) with 3 != 2 columns.\n",
            "WARNING:absl:Skipping line 168822 in TSV (/root/tensorflow_datasets/downloads/extracted/GZIP.data.stat.org_news-comm_v14_trai_news-comm-_JzD8orWKHLY7s4d_7EUj5crr2YhvIe6BJo64Kq0Als.gz) with 3 != 2 columns.\n",
            "WARNING:absl:Skipping line 171967 in TSV (/root/tensorflow_datasets/downloads/extracted/GZIP.data.stat.org_news-comm_v14_trai_news-comm-_JzD8orWKHLY7s4d_7EUj5crr2YhvIe6BJo64Kq0Als.gz) with 3 != 2 columns.\n",
            "WARNING:absl:Skipping line 171980 in TSV (/root/tensorflow_datasets/downloads/extracted/GZIP.data.stat.org_news-comm_v14_trai_news-comm-_JzD8orWKHLY7s4d_7EUj5crr2YhvIe6BJo64Kq0Als.gz) with 3 != 2 columns.\n",
            "WARNING:absl:Skipping line 171983 in TSV (/root/tensorflow_datasets/downloads/extracted/GZIP.data.stat.org_news-comm_v14_trai_news-comm-_JzD8orWKHLY7s4d_7EUj5crr2YhvIe6BJo64Kq0Als.gz) with 3 != 2 columns.\n",
            "WARNING:absl:Skipping line 179746 in TSV (/root/tensorflow_datasets/downloads/extracted/GZIP.data.stat.org_news-comm_v14_trai_news-comm-_JzD8orWKHLY7s4d_7EUj5crr2YhvIe6BJo64Kq0Als.gz) with 3 != 2 columns.\n",
            "WARNING:absl:Skipping line 179750 in TSV (/root/tensorflow_datasets/downloads/extracted/GZIP.data.stat.org_news-comm_v14_trai_news-comm-_JzD8orWKHLY7s4d_7EUj5crr2YhvIe6BJo64Kq0Als.gz) with 3 != 2 columns.\n",
            "WARNING:absl:Skipping line 179765 in TSV (/root/tensorflow_datasets/downloads/extracted/GZIP.data.stat.org_news-comm_v14_trai_news-comm-_JzD8orWKHLY7s4d_7EUj5crr2YhvIe6BJo64Kq0Als.gz) with 3 != 2 columns.\n",
            "WARNING:absl:Skipping line 179774 in TSV (/root/tensorflow_datasets/downloads/extracted/GZIP.data.stat.org_news-comm_v14_trai_news-comm-_JzD8orWKHLY7s4d_7EUj5crr2YhvIe6BJo64Kq0Als.gz) with 3 != 2 columns.\n",
            "WARNING:absl:Skipping line 183846 in TSV (/root/tensorflow_datasets/downloads/extracted/GZIP.data.stat.org_news-comm_v14_trai_news-comm-_JzD8orWKHLY7s4d_7EUj5crr2YhvIe6BJo64Kq0Als.gz) with 3 != 2 columns.\n",
            "WARNING:absl:Skipping line 184047 in TSV (/root/tensorflow_datasets/downloads/extracted/GZIP.data.stat.org_news-comm_v14_trai_news-comm-_JzD8orWKHLY7s4d_7EUj5crr2YhvIe6BJo64Kq0Als.gz) with 3 != 2 columns.\n",
            "WARNING:absl:Skipping line 184065 in TSV (/root/tensorflow_datasets/downloads/extracted/GZIP.data.stat.org_news-comm_v14_trai_news-comm-_JzD8orWKHLY7s4d_7EUj5crr2YhvIe6BJo64Kq0Als.gz) with 3 != 2 columns.\n",
            "WARNING:absl:Skipping line 184068 in TSV (/root/tensorflow_datasets/downloads/extracted/GZIP.data.stat.org_news-comm_v14_trai_news-comm-_JzD8orWKHLY7s4d_7EUj5crr2YhvIe6BJo64Kq0Als.gz) with 3 != 2 columns.\n",
            "WARNING:absl:Skipping line 184338 in TSV (/root/tensorflow_datasets/downloads/extracted/GZIP.data.stat.org_news-comm_v14_trai_news-comm-_JzD8orWKHLY7s4d_7EUj5crr2YhvIe6BJo64Kq0Als.gz) with 3 != 2 columns.\n",
            "WARNING:absl:Skipping line 184357 in TSV (/root/tensorflow_datasets/downloads/extracted/GZIP.data.stat.org_news-comm_v14_trai_news-comm-_JzD8orWKHLY7s4d_7EUj5crr2YhvIe6BJo64Kq0Als.gz) with 3 != 2 columns.\n",
            "WARNING:absl:Skipping line 184363 in TSV (/root/tensorflow_datasets/downloads/extracted/GZIP.data.stat.org_news-comm_v14_trai_news-comm-_JzD8orWKHLY7s4d_7EUj5crr2YhvIe6BJo64Kq0Als.gz) with 3 != 2 columns.\n",
            "WARNING:absl:Skipping line 201066 in TSV (/root/tensorflow_datasets/downloads/extracted/GZIP.data.stat.org_news-comm_v14_trai_news-comm-_JzD8orWKHLY7s4d_7EUj5crr2YhvIe6BJo64Kq0Als.gz) with 3 != 2 columns.\n",
            "WARNING:absl:Skipping line 201073 in TSV (/root/tensorflow_datasets/downloads/extracted/GZIP.data.stat.org_news-comm_v14_trai_news-comm-_JzD8orWKHLY7s4d_7EUj5crr2YhvIe6BJo64Kq0Als.gz) with 3 != 2 columns.\n",
            "WARNING:absl:Skipping line 201079 in TSV (/root/tensorflow_datasets/downloads/extracted/GZIP.data.stat.org_news-comm_v14_trai_news-comm-_JzD8orWKHLY7s4d_7EUj5crr2YhvIe6BJo64Kq0Als.gz) with 3 != 2 columns.\n",
            "WARNING:absl:Skipping line 201081 in TSV (/root/tensorflow_datasets/downloads/extracted/GZIP.data.stat.org_news-comm_v14_trai_news-comm-_JzD8orWKHLY7s4d_7EUj5crr2YhvIe6BJo64Kq0Als.gz) with 3 != 2 columns.\n",
            "WARNING:absl:Skipping line 201089 in TSV (/root/tensorflow_datasets/downloads/extracted/GZIP.data.stat.org_news-comm_v14_trai_news-comm-_JzD8orWKHLY7s4d_7EUj5crr2YhvIe6BJo64Kq0Als.gz) with 3 != 2 columns.\n",
            "WARNING:absl:Skipping line 201091 in TSV (/root/tensorflow_datasets/downloads/extracted/GZIP.data.stat.org_news-comm_v14_trai_news-comm-_JzD8orWKHLY7s4d_7EUj5crr2YhvIe6BJo64Kq0Als.gz) with 3 != 2 columns.\n",
            "WARNING:absl:Skipping line 201102 in TSV (/root/tensorflow_datasets/downloads/extracted/GZIP.data.stat.org_news-comm_v14_trai_news-comm-_JzD8orWKHLY7s4d_7EUj5crr2YhvIe6BJo64Kq0Als.gz) with 3 != 2 columns.\n",
            "WARNING:absl:Skipping line 201501 in TSV (/root/tensorflow_datasets/downloads/extracted/GZIP.data.stat.org_news-comm_v14_trai_news-comm-_JzD8orWKHLY7s4d_7EUj5crr2YhvIe6BJo64Kq0Als.gz) with 3 != 2 columns.\n",
            "WARNING:absl:Skipping line 201508 in TSV (/root/tensorflow_datasets/downloads/extracted/GZIP.data.stat.org_news-comm_v14_trai_news-comm-_JzD8orWKHLY7s4d_7EUj5crr2YhvIe6BJo64Kq0Als.gz) with 3 != 2 columns.\n",
            "WARNING:absl:Skipping line 201524 in TSV (/root/tensorflow_datasets/downloads/extracted/GZIP.data.stat.org_news-comm_v14_trai_news-comm-_JzD8orWKHLY7s4d_7EUj5crr2YhvIe6BJo64Kq0Als.gz) with 3 != 2 columns.\n",
            "WARNING:absl:Skipping line 201527 in TSV (/root/tensorflow_datasets/downloads/extracted/GZIP.data.stat.org_news-comm_v14_trai_news-comm-_JzD8orWKHLY7s4d_7EUj5crr2YhvIe6BJo64Kq0Als.gz) with 3 != 2 columns.\n",
            "WARNING:absl:Skipping line 201530 in TSV (/root/tensorflow_datasets/downloads/extracted/GZIP.data.stat.org_news-comm_v14_trai_news-comm-_JzD8orWKHLY7s4d_7EUj5crr2YhvIe6BJo64Kq0Als.gz) with 3 != 2 columns.\n",
            "WARNING:absl:Skipping line 205991 in TSV (/root/tensorflow_datasets/downloads/extracted/GZIP.data.stat.org_news-comm_v14_trai_news-comm-_JzD8orWKHLY7s4d_7EUj5crr2YhvIe6BJo64Kq0Als.gz) with 3 != 2 columns.\n",
            "WARNING:absl:Skipping line 205997 in TSV (/root/tensorflow_datasets/downloads/extracted/GZIP.data.stat.org_news-comm_v14_trai_news-comm-_JzD8orWKHLY7s4d_7EUj5crr2YhvIe6BJo64Kq0Als.gz) with 3 != 2 columns.\n",
            "WARNING:absl:Skipping line 206005 in TSV (/root/tensorflow_datasets/downloads/extracted/GZIP.data.stat.org_news-comm_v14_trai_news-comm-_JzD8orWKHLY7s4d_7EUj5crr2YhvIe6BJo64Kq0Als.gz) with 3 != 2 columns.\n",
            "WARNING:absl:Skipping line 206014 in TSV (/root/tensorflow_datasets/downloads/extracted/GZIP.data.stat.org_news-comm_v14_trai_news-comm-_JzD8orWKHLY7s4d_7EUj5crr2YhvIe6BJo64Kq0Als.gz) with 3 != 2 columns.\n",
            "WARNING:absl:Skipping line 207849 in TSV (/root/tensorflow_datasets/downloads/extracted/GZIP.data.stat.org_news-comm_v14_trai_news-comm-_JzD8orWKHLY7s4d_7EUj5crr2YhvIe6BJo64Kq0Als.gz) with 3 != 2 columns.\n",
            "WARNING:absl:Skipping line 207875 in TSV (/root/tensorflow_datasets/downloads/extracted/GZIP.data.stat.org_news-comm_v14_trai_news-comm-_JzD8orWKHLY7s4d_7EUj5crr2YhvIe6BJo64Kq0Als.gz) with 3 != 2 columns.\n",
            "WARNING:absl:Skipping line 207882 in TSV (/root/tensorflow_datasets/downloads/extracted/GZIP.data.stat.org_news-comm_v14_trai_news-comm-_JzD8orWKHLY7s4d_7EUj5crr2YhvIe6BJo64Kq0Als.gz) with 3 != 2 columns.\n",
            "WARNING:absl:Skipping line 212484 in TSV (/root/tensorflow_datasets/downloads/extracted/GZIP.data.stat.org_news-comm_v14_trai_news-comm-_JzD8orWKHLY7s4d_7EUj5crr2YhvIe6BJo64Kq0Als.gz) with 3 != 2 columns.\n",
            "WARNING:absl:Skipping line 212492 in TSV (/root/tensorflow_datasets/downloads/extracted/GZIP.data.stat.org_news-comm_v14_trai_news-comm-_JzD8orWKHLY7s4d_7EUj5crr2YhvIe6BJo64Kq0Als.gz) with 3 != 2 columns.\n",
            "WARNING:absl:Skipping line 212503 in TSV (/root/tensorflow_datasets/downloads/extracted/GZIP.data.stat.org_news-comm_v14_trai_news-comm-_JzD8orWKHLY7s4d_7EUj5crr2YhvIe6BJo64Kq0Als.gz) with 3 != 2 columns.\n",
            "WARNING:absl:Skipping line 212505 in TSV (/root/tensorflow_datasets/downloads/extracted/GZIP.data.stat.org_news-comm_v14_trai_news-comm-_JzD8orWKHLY7s4d_7EUj5crr2YhvIe6BJo64Kq0Als.gz) with 3 != 2 columns.\n",
            "WARNING:absl:Skipping line 221034 in TSV (/root/tensorflow_datasets/downloads/extracted/GZIP.data.stat.org_news-comm_v14_trai_news-comm-_JzD8orWKHLY7s4d_7EUj5crr2YhvIe6BJo64Kq0Als.gz) with 3 != 2 columns.\n",
            "WARNING:absl:Skipping line 221042 in TSV (/root/tensorflow_datasets/downloads/extracted/GZIP.data.stat.org_news-comm_v14_trai_news-comm-_JzD8orWKHLY7s4d_7EUj5crr2YhvIe6BJo64Kq0Als.gz) with 3 != 2 columns.\n",
            "WARNING:absl:Skipping line 221044 in TSV (/root/tensorflow_datasets/downloads/extracted/GZIP.data.stat.org_news-comm_v14_trai_news-comm-_JzD8orWKHLY7s4d_7EUj5crr2YhvIe6BJo64Kq0Als.gz) with 3 != 2 columns.\n",
            "WARNING:absl:Skipping line 221046 in TSV (/root/tensorflow_datasets/downloads/extracted/GZIP.data.stat.org_news-comm_v14_trai_news-comm-_JzD8orWKHLY7s4d_7EUj5crr2YhvIe6BJo64Kq0Als.gz) with 3 != 2 columns.\n",
            "WARNING:absl:Skipping line 221050 in TSV (/root/tensorflow_datasets/downloads/extracted/GZIP.data.stat.org_news-comm_v14_trai_news-comm-_JzD8orWKHLY7s4d_7EUj5crr2YhvIe6BJo64Kq0Als.gz) with 3 != 2 columns.\n",
            "WARNING:absl:Skipping line 221051 in TSV (/root/tensorflow_datasets/downloads/extracted/GZIP.data.stat.org_news-comm_v14_trai_news-comm-_JzD8orWKHLY7s4d_7EUj5crr2YhvIe6BJo64Kq0Als.gz) with 3 != 2 columns.\n",
            "WARNING:absl:Skipping line 236386 in TSV (/root/tensorflow_datasets/downloads/extracted/GZIP.data.stat.org_news-comm_v14_trai_news-comm-_JzD8orWKHLY7s4d_7EUj5crr2YhvIe6BJo64Kq0Als.gz) with 3 != 2 columns.\n",
            "WARNING:absl:Skipping line 236387 in TSV (/root/tensorflow_datasets/downloads/extracted/GZIP.data.stat.org_news-comm_v14_trai_news-comm-_JzD8orWKHLY7s4d_7EUj5crr2YhvIe6BJo64Kq0Als.gz) with 3 != 2 columns.\n",
            "WARNING:absl:Skipping line 236391 in TSV (/root/tensorflow_datasets/downloads/extracted/GZIP.data.stat.org_news-comm_v14_trai_news-comm-_JzD8orWKHLY7s4d_7EUj5crr2YhvIe6BJo64Kq0Als.gz) with 3 != 2 columns.\n",
            "WARNING:absl:Skipping line 238227 in TSV (/root/tensorflow_datasets/downloads/extracted/GZIP.data.stat.org_news-comm_v14_trai_news-comm-_JzD8orWKHLY7s4d_7EUj5crr2YhvIe6BJo64Kq0Als.gz) with 3 != 2 columns.\n",
            "WARNING:absl:Skipping line 238243 in TSV (/root/tensorflow_datasets/downloads/extracted/GZIP.data.stat.org_news-comm_v14_trai_news-comm-_JzD8orWKHLY7s4d_7EUj5crr2YhvIe6BJo64Kq0Als.gz) with 3 != 2 columns.\n",
            "WARNING:absl:Skipping line 296348 in TSV (/root/tensorflow_datasets/downloads/extracted/GZIP.data.stat.org_news-comm_v14_trai_news-comm-_JzD8orWKHLY7s4d_7EUj5crr2YhvIe6BJo64Kq0Als.gz) with 3 != 2 columns.\n",
            "WARNING:absl:Skipping line 296349 in TSV (/root/tensorflow_datasets/downloads/extracted/GZIP.data.stat.org_news-comm_v14_trai_news-comm-_JzD8orWKHLY7s4d_7EUj5crr2YhvIe6BJo64Kq0Als.gz) with 3 != 2 columns.\n",
            "WARNING:absl:Skipping line 296367 in TSV (/root/tensorflow_datasets/downloads/extracted/GZIP.data.stat.org_news-comm_v14_trai_news-comm-_JzD8orWKHLY7s4d_7EUj5crr2YhvIe6BJo64Kq0Als.gz) with 3 != 2 columns.\n",
            "WARNING:absl:Skipping line 296375 in TSV (/root/tensorflow_datasets/downloads/extracted/GZIP.data.stat.org_news-comm_v14_trai_news-comm-_JzD8orWKHLY7s4d_7EUj5crr2YhvIe6BJo64Kq0Als.gz) with 3 != 2 columns.\n",
            "WARNING:absl:Skipping line 301850 in TSV (/root/tensorflow_datasets/downloads/extracted/GZIP.data.stat.org_news-comm_v14_trai_news-comm-_JzD8orWKHLY7s4d_7EUj5crr2YhvIe6BJo64Kq0Als.gz) with 3 != 2 columns.\n",
            "WARNING:absl:Skipping line 301852 in TSV (/root/tensorflow_datasets/downloads/extracted/GZIP.data.stat.org_news-comm_v14_trai_news-comm-_JzD8orWKHLY7s4d_7EUj5crr2YhvIe6BJo64Kq0Als.gz) with 3 != 2 columns.\n",
            "WARNING:absl:Skipping line 301855 in TSV (/root/tensorflow_datasets/downloads/extracted/GZIP.data.stat.org_news-comm_v14_trai_news-comm-_JzD8orWKHLY7s4d_7EUj5crr2YhvIe6BJo64Kq0Als.gz) with 3 != 2 columns.\n",
            "WARNING:absl:Skipping line 301871 in TSV (/root/tensorflow_datasets/downloads/extracted/GZIP.data.stat.org_news-comm_v14_trai_news-comm-_JzD8orWKHLY7s4d_7EUj5crr2YhvIe6BJo64Kq0Als.gz) with 3 != 2 columns.\n",
            "WARNING:absl:Skipping line 318976 in TSV (/root/tensorflow_datasets/downloads/extracted/GZIP.data.stat.org_news-comm_v14_trai_news-comm-_JzD8orWKHLY7s4d_7EUj5crr2YhvIe6BJo64Kq0Als.gz) with 3 != 2 columns.\n"
          ]
        },
        {
          "data": {
            "application/vnd.jupyter.widget-view+json": {
              "model_id": "dce08377d7a44e17a25f389d17b5b0fa",
              "version_major": 2,
              "version_minor": 0
            },
            "text/plain": [
              "Shuffling /root/tensorflow_datasets/wmt_translate/zh-en/0.0.3.incompleteFAHOQX/wmt_translate-train.tfrecord*..…"
            ]
          },
          "metadata": {},
          "output_type": "display_data"
        },
        {
          "name": "stdout",
          "output_type": "stream",
          "text": [
            "Dataset wmt_translate downloaded and prepared to /root/tensorflow_datasets/wmt_translate/zh-en/0.0.3. Subsequent calls will reuse this data.\n"
          ]
        }
      ],
      "source": [
        "drive.mount('/content/drive')\n",
        "download_dir=os.chdir('/content/drive/My Drive/download_data') #自己的路徑\n",
        "config = tfds.translate.wmt.WmtConfig(\n",
        "    version=tfds.core.Version('0.0.3'),\n",
        "    language_pair=(\"zh\", \"en\"),\n",
        "    subsets={\n",
        "        tfds.Split.TRAIN: [\"newscommentary_v14\"]\n",
        "    },\n",
        ")\n",
        "builder = tfds.builder(\"wmt_translate\", config=config)\n",
        "builder.download_and_prepare(download_dir=download_dir)\n",
        "#155778筆資料"
      ]
    },
    {
      "cell_type": "markdown",
      "metadata": {
        "id": "HmxhKdEGyRtl"
      },
      "source": [
        "### 分割資料集\n",
        "由於整個資料及共有10萬以上的文本，我只取了大約 30% 的資料來訓練 ( 約 40000 筆資料 )"
      ]
    },
    {
      "cell_type": "code",
      "execution_count": null,
      "metadata": {
        "colab": {
          "base_uri": "https://localhost:8080/"
        },
        "id": "eg0352Tv3Eew",
        "outputId": "bc007ca5-0e82-467d-868f-5f43afd46a29"
      },
      "outputs": [
        {
          "name": "stdout",
          "output_type": "stream",
          "text": [
            "tfds.core.DatasetInfo(\n",
            "    name='wmt_translate',\n",
            "    full_name='wmt_translate/zh-en/0.0.3',\n",
            "    description=\"\"\"\n",
            "    Translate dataset based on the data from statmt.org.\n",
            "    \n",
            "    Versions exists for the different years using a combination of multiple data\n",
            "    sources. The base `wmt_translate` allows you to create your own config to choose\n",
            "    your own data/language pair by creating a custom `tfds.translate.wmt.WmtConfig`.\n",
            "    \n",
            "    ```\n",
            "    config = tfds.translate.wmt.WmtConfig(\n",
            "        version=\"0.0.1\",\n",
            "        language_pair=(\"fr\", \"de\"),\n",
            "        subsets={\n",
            "            tfds.Split.TRAIN: [\"commoncrawl_frde\"],\n",
            "            tfds.Split.VALIDATION: [\"euelections_dev2019\"],\n",
            "        },\n",
            "    )\n",
            "    builder = tfds.builder(\"wmt_translate\", config=config)\n",
            "    ```\n",
            "    \"\"\",\n",
            "    homepage='http://www.statmt.org',\n",
            "    data_path='/root/tensorflow_datasets/wmt_translate/zh-en/0.0.3',\n",
            "    file_format=tfrecord,\n",
            "    download_size=35.00 MiB,\n",
            "    dataset_size=87.13 MiB,\n",
            "    features=Translation({\n",
            "        'en': Text(shape=(), dtype=string),\n",
            "        'zh': Text(shape=(), dtype=string),\n",
            "    }),\n",
            "    supervised_keys=('zh', 'en'),\n",
            "    disable_shuffling=False,\n",
            "    splits={\n",
            "        'train': <SplitInfo num_examples=311556, num_shards=1>,\n",
            "    },\n",
            "    citation=\"\"\"\"\"\",\n",
            ")\n",
            "<_PrefetchDataset element_spec={'en': TensorSpec(shape=(), dtype=tf.string, name=None), 'zh': TensorSpec(shape=(), dtype=tf.string, name=None)}>\n",
            "<_PrefetchDataset element_spec={'en': TensorSpec(shape=(), dtype=tf.string, name=None), 'zh': TensorSpec(shape=(), dtype=tf.string, name=None)}>\n",
            "93467\n"
          ]
        }
      ],
      "source": [
        "#load data and split into validation_data and train_data\n",
        "print(builder.info)\n",
        "data=builder.as_dataset(split=['train[:30%]','train[99%:100%]']) #處理完後有 44627+2 筆資料\n",
        "data1=builder.as_dataset(split=['train[30%:60%]','train[98%:99%]'])\n",
        "data_corpus=builder.as_dataset(split=['train[:60%]','train[98%:99%]'])\n",
        "train_ex,val_ex=data\n",
        "train_for_corpus,val_for_corpus=data_corpus\n",
        "print(train_ex)\n",
        "print(val_ex)\n",
        "\n",
        "ds=list(train_ex)\n",
        "print(len(ds))"
      ]
    },
    {
      "cell_type": "markdown",
      "metadata": {
        "id": "9INrWLG6xviu"
      },
      "source": [
        "### 建立英文語料庫\n",
        "  如下所示，並在建立好之後存入雲端，下一次就不用浪費時間再建一次。\n",
        "  \n",
        "  另外，我在用&nbsp;*tfds.builder()*&nbsp;建資料時發現 data 中的 **\"en\"索引對應的是中文、\"zh\"索引對應的是英文**。目前找不出問題所在，所以程式中會直接進行互換。\n",
        "\n"
      ]
    },
    {
      "cell_type": "code",
      "execution_count": null,
      "metadata": {
        "colab": {
          "base_uri": "https://localhost:8080/"
        },
        "id": "IUhKgBO1_rxI",
        "outputId": "d08e2d98-ce06-4900-eb0e-ac458a904032"
      },
      "outputs": [
        {
          "name": "stdout",
          "output_type": "stream",
          "text": [
            "載入已建立的字典： /content/drive/My Drive/en_vocab_2\n",
            "字典大小：8165\n",
            "前 10 個 subwords：[', ', 'the_', 'to_', 'of_', 'and_', 's_', 'in_', 'a_', 'is_', 'that_']\n",
            "\n",
            "CPU times: user 95.1 ms, sys: 5.67 ms, total: 101 ms\n",
            "Wall time: 1.04 s\n"
          ]
        }
      ],
      "source": [
        "%%time\n",
        "vocab_corpus_dir=r'/content/drive/My Drive/en_vocab_2'\n",
        "try:\n",
        "  subword_encoder_en = tfds.deprecated.text.SubwordTextEncoder.load_from_file(vocab_corpus_dir)\n",
        "  print(f\"載入已建立的字典： {vocab_corpus_dir}\")\n",
        "except:\n",
        "  print(\"沒有已建立的字典，從頭建立。\")\n",
        "  subword_encoder_en =  tfds.deprecated.text.SubwordTextEncoder.build_from_corpus(\n",
        "      (ex['zh'].numpy() for ex in train_for_corpus),\n",
        "      target_vocab_size=2**13) # 有需要可以調整字典大小\n",
        "\n",
        "  # 將字典檔案存下以方便下次 warmstart\n",
        "  subword_encoder_en.save_to_file(vocab_corpus_dir)\n",
        "\n",
        "\n",
        "print(f\"字典大小：{subword_encoder_en.vocab_size}\")\n",
        "print(f\"前 10 個 subwords：{subword_encoder_en.subwords[:10]}\")\n",
        "print()"
      ]
    },
    {
      "cell_type": "markdown",
      "metadata": {
        "id": "xYRBPxOhzraR"
      },
      "source": [
        "### 建立中文語料庫\n",
        "同上"
      ]
    },
    {
      "cell_type": "code",
      "execution_count": null,
      "metadata": {
        "colab": {
          "base_uri": "https://localhost:8080/"
        },
        "id": "BD3wwNOi8czF",
        "outputId": "671e9f7a-6fdd-4db4-f199-cfb4e76b85b4"
      },
      "outputs": [
        {
          "name": "stdout",
          "output_type": "stream",
          "text": [
            "載入已建立的字典： /content/drive/My Drive/zh_vocab_2\n",
            "字典大小：4683\n",
            "前 10 個 subwords：['的', '，', '。', '国', '在', '是', '一', '和', '不', '这']\n",
            "\n",
            "CPU times: user 60.2 ms, sys: 5.06 ms, total: 65.2 ms\n",
            "Wall time: 749 ms\n"
          ]
        }
      ],
      "source": [
        "%%time\n",
        "zh_vocab_corpus_dir=r'/content/drive/My Drive/zh_vocab_2'\n",
        "try:\n",
        "  subword_encoder_zh = tfds.deprecated.text.SubwordTextEncoder.load_from_file(zh_vocab_corpus_dir)\n",
        "  print(f\"載入已建立的字典： {zh_vocab_corpus_dir}\")\n",
        "except:\n",
        "  print(\"沒有已建立的字典，從頭建立。\")\n",
        "  subword_encoder_zh =  tfds.deprecated.text.SubwordTextEncoder.build_from_corpus(\n",
        "      (ex['en'].numpy() for ex in train_for_corpus),\n",
        "      target_vocab_size=2**13,max_subword_length=1) # 有需要可以調整字典大小\n",
        "\n",
        "  # 將字典檔案存下以方便下次 warmstart\n",
        "  subword_encoder_zh.save_to_file(zh_vocab_corpus_dir)\n",
        "\n",
        "\n",
        "print(f\"字典大小：{subword_encoder_zh.vocab_size}\")\n",
        "print(f\"前 10 個 subwords：{subword_encoder_zh.subwords[:10]}\")\n",
        "print()"
      ]
    },
    {
      "cell_type": "markdown",
      "metadata": {
        "id": "u6S2s3GB0dLH"
      },
      "source": [
        "上述的語料庫可以直接幫我們把輸入的文字轉成索引，十分方便"
      ]
    },
    {
      "cell_type": "code",
      "execution_count": null,
      "metadata": {
        "colab": {
          "base_uri": "https://localhost:8080/"
        },
        "id": "RUmo36uwE9Fq",
        "outputId": "5fc62dc6-4732-4b15-e104-028b522c56a3"
      },
      "outputs": [
        {
          "name": "stdout",
          "output_type": "stream",
          "text": [
            "[1114, 425, 505, 9, 1033, 3120, 1955, 3423, 124, 70, 368, 7954, 289, 7954, 5119, 1366, 3729, 6035, 6, 19, 1513, 670, 7954, 5385, 2339, 132, 7954, 7954, 2019, 4402, 2011]\n"
          ]
        }
      ],
      "source": [
        "ex_text='Encoding is fully invertible because all out-of-vocab wordpieces are byte-encoded. --Johnson'\n",
        "ind=subword_encoder_en.encode(ex_text)\n",
        "print(ind)"
      ]
    },
    {
      "cell_type": "markdown",
      "metadata": {
        "id": "PIW7Q1G10qxg"
      },
      "source": [
        "這欄可以看到，當出現語料庫中找不到的字時，他會將字切成更小的部分分別轉換。因此不會怕出現字典裡沒有出現過的字"
      ]
    },
    {
      "cell_type": "code",
      "execution_count": null,
      "metadata": {
        "colab": {
          "base_uri": "https://localhost:8080/"
        },
        "id": "YQ97a7GGF3Yp",
        "outputId": "153295b4-0244-40e9-f88e-2da4c101caff"
      },
      "outputs": [
        {
          "name": "stdout",
          "output_type": "stream",
          "text": [
            "index: 1114   original word: En\n",
            "index: 425   original word: co\n",
            "index: 505   original word: ding \n",
            "index: 9   original word: is \n",
            "index: 1033   original word: fully \n",
            "index: 3120   original word: inv\n",
            "index: 1955   original word: ert\n",
            "index: 3423   original word: ible \n",
            "index: 124   original word: because \n",
            "index: 70   original word: all \n",
            "index: 368   original word: out\n",
            "index: 7954   original word: -\n",
            "index: 289   original word: of\n",
            "index: 7954   original word: -\n",
            "index: 5119   original word: voca\n",
            "index: 1366   original word: b \n",
            "index: 3729   original word: word\n",
            "index: 6035   original word: piece\n",
            "index: 6   original word: s \n",
            "index: 19   original word: are \n",
            "index: 1513   original word: by\n",
            "index: 670   original word: te\n",
            "index: 7954   original word: -\n",
            "index: 5385   original word: enco\n",
            "index: 2339   original word: ded\n",
            "index: 132   original word: . \n",
            "index: 7954   original word: -\n",
            "index: 7954   original word: -\n",
            "index: 2019   original word: Jo\n",
            "index: 4402   original word: hn\n",
            "index: 2011   original word: son\n"
          ]
        }
      ],
      "source": [
        "for i in ind:\n",
        "  print('index:',i,' ','original word:',subword_encoder_en.decode([i]))"
      ]
    },
    {
      "cell_type": "code",
      "execution_count": null,
      "metadata": {
        "colab": {
          "base_uri": "https://localhost:8080/"
        },
        "id": "QRSUv69AZJ2R",
        "outputId": "2ccc7950-c70a-4e29-9dca-14dbbd478a37"
      },
      "outputs": [
        {
          "name": "stdout",
          "output_type": "stream",
          "text": [
            "[英中原文]（轉換前）\n",
            "The eurozone’s collapse forces a major realignment of European politics.\n",
            "欧元区的瓦解强迫欧洲政治进行一次重大改组。\n",
            "\n",
            "--------------------\n",
            "\n",
            "[英中序列]（轉換後）\n",
            "[16, 938, 11, 6, 1667, 772, 8, 219, 2162, 2833, 239, 4, 87, 1222, 7955]\n",
            "[44, 201, 177, 1, 865, 204, 234, 600, 44, 91, 17, 126, 100, 37, 7, 279, 85, 18, 211, 268, 3]\n"
          ]
        }
      ],
      "source": [
        "en = \"The eurozone’s collapse forces a major realignment of European politics.\"\n",
        "zh = \"欧元区的瓦解强迫欧洲政治进行一次重大改组。\"\n",
        "\n",
        "# 將文字轉成為 subword indices\n",
        "en_indices = subword_encoder_en.encode(en)\n",
        "zh_indices = subword_encoder_zh.encode(zh)\n",
        "\n",
        "print(\"[英中原文]（轉換前）\")\n",
        "print(en)\n",
        "print(zh)\n",
        "print()\n",
        "print('-' * 20)\n",
        "print()\n",
        "print(\"[英中序列]（轉換後）\")\n",
        "print(en_indices)\n",
        "print(zh_indices)"
      ]
    },
    {
      "cell_type": "markdown",
      "metadata": {
        "id": "zZcBDvrCowXG"
      },
      "source": [
        "### 文字的接續處理"
      ]
    },
    {
      "cell_type": "code",
      "execution_count": null,
      "metadata": {
        "id": "PUXhg2B_kcv-"
      },
      "outputs": [],
      "source": [
        "def encode(en_t,zh_t):\n",
        "  #添加 BOS token && EOS token的函數\n",
        "  # 我們可以使用 subword_encoder_en.vocab_size 這個值作為 BOS 的索引值\n",
        "  # 用 subword_encoder_en.vocab_size + 1 作為 EOS 的索引值\n",
        "  #en_t=dic['zh']\n",
        "  print(en_t)\n",
        "  print(en_t.numpy().decode('utf-8'))\n",
        "  #zh_t=dic['en']\n",
        "  zh_indices=[subword_encoder_zh.vocab_size]+subword_encoder_zh.encode(zh_t.numpy())+[subword_encoder_zh.vocab_size+1]\n",
        "  en_indices=[subword_encoder_en.vocab_size]+subword_encoder_en.encode(en_t.numpy())+[subword_encoder_en.vocab_size+1]\n",
        "\n",
        "  return en_indices,zh_indices\n",
        "\n",
        "def tf_encode(en_t,zh_t):\n",
        "  # 在 `tf_encode` 函式裡頭的 `en_t` 與 `zh_t` 都不是 Eager Tensors\n",
        "  # 要到 `tf.py_funtion` 裡頭才是\n",
        "  # 另外因為索引都是整數，所以使用 `tf.int64`\n",
        "  return tf.py_function(encode,inp=[en_t,zh_t],Tout=[tf.int64,tf.int64])"
      ]
    },
    {
      "cell_type": "code",
      "execution_count": null,
      "metadata": {
        "id": "w1Hu15cQ494Z"
      },
      "outputs": [],
      "source": [
        "for ex in train_ex:\n",
        "  en_t=ex['zh']\n",
        "  zh_t=ex['en']\n",
        "  break\n",
        "\n",
        "#en_ind=encode_en(en_t)\n",
        "#print(en_ind)\n",
        "#print(zh_ind)\n"
      ]
    },
    {
      "cell_type": "code",
      "execution_count": null,
      "metadata": {
        "id": "lx82qju-YQWa"
      },
      "outputs": [],
      "source": [
        "train_dataset=train_ex.map(lambda x:tf_encode(x['zh'],x['en']))\n"
      ]
    },
    {
      "cell_type": "code",
      "execution_count": null,
      "metadata": {
        "colab": {
          "base_uri": "https://localhost:8080/"
        },
        "id": "VZLvOM9m4q5y",
        "outputId": "5624e43e-44d0-4af4-c771-8b744c381548"
      },
      "outputs": [
        {
          "name": "stdout",
          "output_type": "stream",
          "text": [
            "<_MapDataset element_spec=(TensorSpec(shape=<unknown>, dtype=tf.int64, name=None), TensorSpec(shape=<unknown>, dtype=tf.int64, name=None))>\n",
            "tf.Tensor(b'The fear is real and visceral, and politicians ignore it at their peril.', shape=(), dtype=string)\n",
            "The fear is real and visceral, and politicians ignore it at their peril.\n",
            "tf.Tensor(\n",
            "[8165   16 1217    9  249    5 1213 2237  173    1    5 1030 5774   21\n",
            "   38   31 3561 8017 7955 8166], shape=(20,), dtype=int64)\n",
            "tf.Tensor(\n",
            "[4683   10  150  572 1249    6  386   53   29  193    5    1    3 4459\n",
            "  953  438  125    1   17  126   33   20   98 1110 1245  861    3 4684], shape=(28,), dtype=int64)\n"
          ]
        }
      ],
      "source": [
        "print(train_dataset)\n",
        "en_ind,zh_ind=next(iter(train_dataset))\n",
        "print(en_ind)\n",
        "print(zh_ind)"
      ]
    },
    {
      "cell_type": "markdown",
      "metadata": {
        "id": "YaHUYrxVpzxv"
      },
      "source": [
        "### 去除過長的資料\n",
        "超過 40 個字的句子會被去掉"
      ]
    },
    {
      "cell_type": "code",
      "execution_count": null,
      "metadata": {
        "id": "OIe7FDOAVUek"
      },
      "outputs": [],
      "source": [
        "sen_max_len=40\n",
        "def sentence_length_filter(en,zh,max_len=sen_max_len):\n",
        "  return tf.logical_and(tf.size(en)<=max_len,tf.size(zh)<=max_len)\n",
        "train_dataset=train_dataset.filter(sentence_length_filter)"
      ]
    },
    {
      "cell_type": "code",
      "execution_count": null,
      "metadata": {
        "id": "yR7sDWUN1wu8"
      },
      "outputs": [],
      "source": [
        "#建立正式資料集\n",
        "buffer_size=15000\n",
        "train_dataset=(train_ex\n",
        "        .map(lambda x:tf_encode(x['zh'],x['en']),tf.data.AUTOTUNE)\n",
        "        .filter(sentence_length_filter)\n",
        "        .cache() #加快讀取\n",
        "        .shuffle(buffer_size) #打亂\n",
        "        .padded_batch(64,padded_shapes=([-1],[-1]))\n",
        "        .prefetch(tf.data.experimental.AUTOTUNE) #加速\n",
        "              )\n",
        "val_dataset=(val_ex\n",
        "        .map(lambda x:tf_encode(x['zh'],x['en']),tf.data.AUTOTUNE)\n",
        "        .filter(sentence_length_filter)\n",
        "        .cache() #加快讀取\n",
        "        .shuffle(buffer_size) #打亂\n",
        "        .padded_batch(64,padded_shapes=([-1],[-1]))\n",
        "        .prefetch(tf.data.experimental.AUTOTUNE) #加速\n",
        "              )"
      ]
    },
    {
      "cell_type": "code",
      "execution_count": null,
      "metadata": {
        "colab": {
          "base_uri": "https://localhost:8080/"
        },
        "id": "Kzhylm4o9bfx",
        "outputId": "3c2d2ad1-3865-4646-b8d0-5fef9b19368b"
      },
      "outputs": [
        {
          "name": "stdout",
          "output_type": "stream",
          "text": [
            "<_PrefetchDataset element_spec=(TensorSpec(shape=(None, None), dtype=tf.int64, name=None), TensorSpec(shape=(None, None), dtype=tf.int64, name=None))>\n"
          ]
        }
      ],
      "source": [
        "print(train_dataset)\n",
        "clear_output(wait=True)\n"
      ]
    },
    {
      "cell_type": "code",
      "execution_count": null,
      "metadata": {
        "colab": {
          "base_uri": "https://localhost:8080/"
        },
        "id": "BfrXqCgSVqCQ",
        "outputId": "73c4d264-c44c-43a6-f82c-0557df1ef449"
      },
      "outputs": [
        {
          "name": "stdout",
          "output_type": "stream",
          "text": [
            "tf.Tensor(b'It is important.', shape=(), dtype=string)\n",
            "It is important.\n",
            "tf.Tensor(b'The numbers speak for themselves.', shape=(), dtype=string)\n",
            "The numbers speak for themselves.\n",
            "(2, 8)\n",
            "inp:[[8165  102    9 1025 7955 8166    0    0]\n",
            " [8165   16 4128 5485   12 2476 7955 8166]]\n",
            "tar:[[4683   10  236   85   27    3 4684    0    0    0]\n",
            " [4683  167  491  406  190   14    7  549    3 4684]]\n"
          ]
        }
      ],
      "source": [
        "#測試一下怎麼轉成張量\n",
        "demo_examples = [\n",
        "    (\"It is important.\", \"这很重要。\"),\n",
        "    (\"The numbers speak for themselves.\", \"数字证明了一切。\"),\n",
        "]\n",
        "\n",
        "demo_examples_tensor=tf.data.Dataset.from_tensor_slices(([en for en,_ in demo_examples],[zh for _,zh in demo_examples])) #注意：for迴圈中的 _ 代表\"跳過第二個值，我不在乎他是誰\"\n",
        "demo_examples_tensor=demo_examples_tensor.map(tf_encode).padded_batch(2,padded_shapes=([-1],[-1]))\n",
        "inp,tar=next(iter(demo_examples_tensor))\n",
        "print(inp.shape)\n",
        "print(f'inp:{inp}')\n",
        "print(f'tar:{tar}')"
      ]
    },
    {
      "cell_type": "code",
      "execution_count": null,
      "metadata": {
        "id": "ltVr9uv0f7cs"
      },
      "outputs": [],
      "source": [
        "# build encoder\n",
        "# 框架來自 https://keras.io/zh/layers/writing-your-own-keras-layers/ 和 https://www.tensorflow.org/text/tutorials/nmt_with_attention#the_encoder\n",
        "# 解釋：https://sparrow.dev/keras-custom-layer/\n",
        "class Encoder(tf.keras.layers.Layer):\n",
        "  def __init__(self,units):\n",
        "    super().__init__() # 繼承 tf.keras.layers.Layer 中的方法 (如下面的 call() 或是 build() 之類的。也可以去翻source code：https://github.com/keras-team/keras/blob/master/keras/engine/base_layer.py)\n",
        "    self.units=256\n",
        "    self.vocab_size=subword_encoder_en.vocab_size+2\n",
        "\n",
        "    self.embedding=tf.keras.layers.Embedding(input_dim=self.vocab_size,output_dim=self.units,mask_zero=True) # mask；由於前面做了 padding，需要mask 把牠們遮起來(padding的部分)\n",
        "\n",
        "    self.rnn=tf.keras.layers.Bidirectional(merge_mode='sum',layer=tf.keras.layers.GRU(self.units,return_sequences=True,return_state=True,recurrent_initializer='glorot_uniform')) #sum 的原因是attention layer會取平均\n",
        "\n",
        "  def call(self,x):\n",
        "    x=self.embedding(x)\n",
        "    #print(x)\n",
        "    x=self.rnn(x)\n",
        "    return x\n",
        "  def convert_input(self,texts):\n",
        "    texts = tf.convert_to_tensor(texts)\n",
        "    if len(texts.shape) == 0:\n",
        "      texts = tf.convert_to_tensor(texts)[tf.newaxis]\n",
        "    return texts\n",
        "\n"
      ]
    },
    {
      "cell_type": "code",
      "execution_count": null,
      "metadata": {
        "colab": {
          "base_uri": "https://localhost:8080/"
        },
        "id": "0MwOJWeLQKhh",
        "outputId": "c4781f7b-9cf5-456a-fc45-cbaa46b210fc"
      },
      "outputs": [
        {
          "name": "stdout",
          "output_type": "stream",
          "text": [
            "(2, 8)\n",
            "(2, 8, 256)\n",
            "(2, 256)\n",
            "(2, 256)\n"
          ]
        }
      ],
      "source": [
        "#ex_inp,ex_tar=next(iter(train_dataset))\n",
        "encoder=Encoder(256)\n",
        "ex_content=encoder(inp)\n",
        "print(inp.shape)\n",
        "for i in range(len(ex_content)):\n",
        "  print(ex_content[i].shape)\n"
      ]
    },
    {
      "cell_type": "code",
      "execution_count": null,
      "metadata": {
        "colab": {
          "base_uri": "https://localhost:8080/"
        },
        "id": "jg72cszhuxJ0",
        "outputId": "be5b1dba-a05b-4e65-a45c-4f60b474510a"
      },
      "outputs": [
        {
          "name": "stdout",
          "output_type": "stream",
          "text": [
            "3\n",
            "tf.Tensor(\n",
            "[[[-0.012569    0.00996978 -0.0359096  ...  0.00353702 -0.01153903\n",
            "   -0.00665021]\n",
            "  [ 0.00914672 -0.0020915  -0.03005479 ... -0.00529666  0.00694257\n",
            "    0.00672482]\n",
            "  [-0.02034006  0.01507995 -0.00585481 ... -0.02975649 -0.00027967\n",
            "    0.02432467]\n",
            "  ...\n",
            "  [ 0.00066443  0.02594291 -0.00710115 ...  0.00886957 -0.00983894\n",
            "   -0.00194608]\n",
            "  [ 0.          0.          0.         ...  0.          0.\n",
            "    0.        ]\n",
            "  [ 0.          0.          0.         ...  0.          0.\n",
            "    0.        ]]\n",
            "\n",
            " [[-0.01159634  0.01014251 -0.02694752 ...  0.01236947 -0.00137768\n",
            "   -0.00423439]\n",
            "  [ 0.00575708  0.0003239  -0.02055835 ...  0.02920941  0.03188482\n",
            "   -0.00222713]\n",
            "  [ 0.01952353  0.00103221 -0.00823582 ... -0.00129587  0.02462072\n",
            "    0.00871017]\n",
            "  ...\n",
            "  [-0.01950962  0.01665722 -0.00477417 ...  0.02567497 -0.00095139\n",
            "   -0.01003937]\n",
            "  [-0.02130001  0.02151782 -0.01477064 ...  0.03142406  0.00404314\n",
            "   -0.01476767]\n",
            "  [-0.00817252  0.02834298 -0.00875838 ...  0.01645571 -0.01504016\n",
            "   -0.00868283]]], shape=(2, 8, 256), dtype=float32)\n"
          ]
        }
      ],
      "source": [
        "print(len(ex_content))\n",
        "print(ex_content[0])"
      ]
    },
    {
      "cell_type": "code",
      "execution_count": null,
      "metadata": {
        "id": "ROSIzOFGH1Bd"
      },
      "outputs": [],
      "source": [
        "# building attention layer\n",
        "# model structure：https://www.tensorflow.org/text/tutorials/nmt_with_attention#the_attention_layer\n",
        "# explaining query、key and value ：https://stats.stackexchange.com/questions/421935/what-exactly-are-keys-queries-and-values-in-attention-mechanisms 、https://blog.csdn.net/yangyehuisw/article/details/116207892\n",
        "# what is attention??：https://leemeng.tw/neural-machine-translation-with-transformer-and-tensorflow2.html && https://www.youtube.com/watch?v=ugWDIIOHtPA\n",
        "# original paper：https://arxiv.org/abs/1508.04025v5 、https://arxiv.org/abs/1706.03762\n",
        "\n",
        "class Attention_layer(tf.keras.layers.Layer):\n",
        "  def __init__(self,units):\n",
        "    super().__init__()\n",
        "    self.multi_head=tf.keras.layers.MultiHeadAttention(key_dim=units, num_heads=1) # 也可換成一般attention layer 試看看\n",
        "    self.layernorm=tf.keras.layers.LayerNormalization(epsilon=1e-6)\n",
        "    self.add=tf.keras.layers.Add()\n",
        "  def call(self,target,context):\n",
        "    attn_output,attn_score=self.multi_head(query=target,value=context,return_attention_scores=True)\n",
        "    attn_scores=tf.reduce_mean(attn_score,axis=1)\n",
        "    self.last_attention_weight=attn_scores\n",
        "\n",
        "    target=self.add([target,attn_output])\n",
        "    target=self.layernorm(target)\n",
        "\n",
        "    return target"
      ]
    },
    {
      "cell_type": "code",
      "execution_count": null,
      "metadata": {
        "colab": {
          "base_uri": "https://localhost:8080/"
        },
        "id": "Xdbtmm_be_xS",
        "outputId": "e2ea578f-70ad-4dc0-954f-d572e80e42e5"
      },
      "outputs": [
        {
          "name": "stdout",
          "output_type": "stream",
          "text": [
            "tf.Tensor(\n",
            "[[[-0.03955146 -0.03485359  0.03563461 ...  0.04266138 -0.01980332\n",
            "   -0.03396132]\n",
            "  [-0.03167723 -0.03576545 -0.04727941 ...  0.01577756 -0.03408135\n",
            "   -0.02617952]\n",
            "  [-0.03596318  0.03088248 -0.0113495  ... -0.01786476 -0.01007621\n",
            "   -0.00193285]\n",
            "  ...\n",
            "  [-0.01103805  0.0304517  -0.01996478 ... -0.02361752 -0.02935146\n",
            "   -0.04219384]\n",
            "  [-0.01103805  0.0304517  -0.01996478 ... -0.02361752 -0.02935146\n",
            "   -0.04219384]\n",
            "  [-0.01103805  0.0304517  -0.01996478 ... -0.02361752 -0.02935146\n",
            "   -0.04219384]]\n",
            "\n",
            " [[-0.03955146 -0.03485359  0.03563461 ...  0.04266138 -0.01980332\n",
            "   -0.03396132]\n",
            "  [-0.00863092 -0.04799482  0.00204455 ...  0.01897422  0.01390536\n",
            "   -0.02410041]\n",
            "  [ 0.04318872  0.0194147   0.02690503 ... -0.03652961  0.02635684\n",
            "    0.02104386]\n",
            "  ...\n",
            "  [-0.02733526  0.005688   -0.00082359 ...  0.00041948  0.03968402\n",
            "   -0.00374059]\n",
            "  [-0.00446244 -0.02572393 -0.03754602 ... -0.0275334  -0.01720031\n",
            "   -0.01777123]\n",
            "  [ 0.000543    0.02043648 -0.03354366 ...  0.02903027  0.04024866\n",
            "   -0.04259365]]], shape=(2, 10, 256), dtype=float32)\n",
            "tf.Tensor(\n",
            "[[[-1.3147128  -1.1198994   1.3869549  ...  1.7132471  -0.57492524\n",
            "   -1.0913702 ]\n",
            "  [-1.0456539  -1.1614522  -1.5833824  ...  0.6558756  -1.0997621\n",
            "   -0.83515084]\n",
            "  [-1.2643533   1.0237327  -0.43193352 ... -0.5831492  -0.35958037\n",
            "   -0.09086496]\n",
            "  ...\n",
            "  [-0.37898538  1.0505297  -0.6834196  ... -0.75536454 -0.9806502\n",
            "   -1.4227458 ]\n",
            "  [-0.37898538  1.0505297  -0.6834196  ... -0.75536454 -0.9806502\n",
            "   -1.4227458 ]\n",
            "  [-0.37898538  1.0505297  -0.6834196  ... -0.75536454 -0.9806502\n",
            "   -1.4227458 ]]\n",
            "\n",
            " [[-1.3014594  -1.1298784   1.3978484  ...  1.6524606  -0.61846286\n",
            "   -1.0873334 ]\n",
            "  [-0.30876917 -1.81428     0.10164788 ...  0.7531304   0.5275496\n",
            "   -0.8872338 ]\n",
            "  [ 1.305941    0.5177079   0.7652416  ... -1.3430831   0.7220965\n",
            "    0.58167154]\n",
            "  ...\n",
            "  [-0.9134785   0.23998252  0.01134977 ...  0.05703708  1.396585\n",
            "   -0.07829827]\n",
            "  [-0.14545189 -0.8966307  -1.3177516  ... -0.96018696 -0.6226477\n",
            "   -0.6041486 ]\n",
            "  [-0.19013113  0.5228192  -1.4054712  ...  0.83014977  1.2013693\n",
            "   -1.7161801 ]]], shape=(2, 10, 256), dtype=float32)\n",
            "\n",
            "shape of attention_weight (2, 10, 8)\n"
          ]
        }
      ],
      "source": [
        "attention_layer=Attention_layer(256)\n",
        "embed= tf.keras.layers.Embedding(subword_encoder_zh.vocab_size+2,output_dim=256, mask_zero=True)\n",
        "ex_tar=embed(tar)\n",
        "print(ex_tar)\n",
        "result=attention_layer(ex_tar,ex_content[0])\n",
        "print(result)\n",
        "print()\n",
        "print(\"shape of attention_weight\",attention_layer.last_attention_weight.shape)"
      ]
    },
    {
      "cell_type": "code",
      "execution_count": null,
      "metadata": {
        "id": "1-m-nYHtX4Gw"
      },
      "outputs": [],
      "source": [
        "# Decoder\n",
        "\n",
        "class Decoder(tf.keras.layers.Layer):\n",
        "  @classmethod #定義 method 以後直接叫\n",
        "  def add_method(cls,function):\n",
        "    setattr(cls,function.__name__,function)\n",
        "    return function\n",
        "  def __init__(self,units=256):\n",
        "    super(Decoder,self).__init__()\n",
        "    self.vocab_size_zh=subword_encoder_zh.vocab_size+2\n",
        "    self.units=units\n",
        "\n",
        "    self.start_token=subword_encoder_zh.vocab_size\n",
        "    self.end_token=subword_encoder_zh.vocab_size+1\n",
        "\n",
        "    # embed the target sentences\n",
        "    self.embedding=tf.keras.layers.Embedding(input_dim=self.vocab_size_zh,output_dim=self.units,mask_zero=True)\n",
        "\n",
        "    self.rnn=tf.keras.layers.GRU(units,return_sequences=True,return_state=True,recurrent_initializer='glorot_uniform')\n",
        "\n",
        "    self.attention=Attention_layer(self.units)\n",
        "\n",
        "    # output layer outputs the logits of each words\n",
        "    self.output_layer=tf.keras.layers.Dense(self.vocab_size_zh)\n",
        "\n",
        "  def call(self, enc_input_context, target_inp, state=None, return_state=False):\n",
        "\n",
        "    target_inp=self.embedding(target_inp)\n",
        "\n",
        "    target_inp,state=self.rnn(target_inp,initial_state=state)\n",
        "\n",
        "    target_inp=self.attention(target_inp,enc_input_context)\n",
        "    self.last_attention_weight=self.attention.last_attention_weight\n",
        "\n",
        "    logits=self.output_layer(target_inp)\n",
        "\n",
        "    if return_state:\n",
        "      return logits,state\n",
        "    else :\n",
        "      return logits\n",
        "\n",
        "  def get_initial_state(self,context):\n",
        "    batch_size=tf.shape(context)[0]\n",
        "    start_tokens=tf.fill([batch_size,1],self.start_token)\n",
        "    done=tf.zeros([batch_size,1],dtype=tf.bool)\n",
        "    embedded=self.embedding(start_tokens)\n",
        "    return start_tokens,done,self.rnn.get_initial_state(embedded)[0]\n",
        "\n",
        "\n",
        "  def get_next_token(self,context,token,done,state,temperature=0.0):\n",
        "    logits, state = self(context, token,state = state,return_state=True)\n",
        "\n",
        "    if temperature==0.0:\n",
        "      next_token=tf.math.argmax(logits,axis=-1)\n",
        "    else :\n",
        "      logits=logits[:,-1,:]/temperature # temperature 是用來 control 數據的大小。藉此影響機率分布 (簡單來說，temperature值愈大，會讓機率分布平滑；愈小，會讓機率分布愈尖)\n",
        "      next_token=tf.random.categorical(logits, num_samples=1) # 從機率分布隨機取樣\n",
        "\n",
        "    # If a sequence produces an `end_token`, set it `done`\n",
        "    done=done | (next_token==self.end_token)\n",
        "\n",
        "    next_token = tf.where(done, tf.constant(0, dtype=tf.int64), next_token)\n",
        "\n",
        "    return next_token,done,state\n",
        "\n",
        "\n"
      ]
    },
    {
      "cell_type": "code",
      "execution_count": null,
      "metadata": {
        "colab": {
          "base_uri": "https://localhost:8080/"
        },
        "id": "HCcwNdC6agUp",
        "outputId": "29f05e0f-6a8f-4c0d-e276-616fa7e4b1d3"
      },
      "outputs": [
        {
          "name": "stdout",
          "output_type": "stream",
          "text": [
            "tf.Tensor(\n",
            "[[[ 0.26220107  0.4786552   0.05658217 ... -0.13869561  0.0703841\n",
            "   -0.3080092 ]\n",
            "  [ 0.19234364  0.39938006  0.25272167 ... -0.34182122  0.6408793\n",
            "    0.11927228]\n",
            "  [ 0.25683275  0.5627353   0.2892809  ... -0.32869914  0.66460747\n",
            "   -0.12497947]\n",
            "  ...\n",
            "  [ 0.06705103 -0.00463379 -0.00141484 ... -0.16923645  0.12399185\n",
            "    0.21130039]\n",
            "  [ 0.06705103 -0.00463379 -0.00141484 ... -0.16923645  0.12399185\n",
            "    0.21130039]\n",
            "  [ 0.06705103 -0.00463379 -0.00141484 ... -0.16923645  0.12399185\n",
            "    0.21130039]]\n",
            "\n",
            " [[ 0.19974394  0.45650187  0.0143076  ... -0.19087085  0.04297695\n",
            "   -0.34286934]\n",
            "  [ 0.0469609   0.52059597 -0.20718823 ... -0.26249734 -0.14952412\n",
            "    0.28368154]\n",
            "  [-0.58126223  0.57021385 -0.01349556 ... -0.5656019   0.45218128\n",
            "    0.37520894]\n",
            "  ...\n",
            "  [ 0.14995575  0.8210808   0.19149473 ... -0.75412977 -0.2823381\n",
            "    0.95478827]\n",
            "  [-0.07680836  0.9183817  -0.21442333 ... -0.30494145 -0.34317774\n",
            "    0.7095268 ]\n",
            "  [ 0.15428549  0.5086141  -0.01836307 ...  0.09254748 -0.15247932\n",
            "    0.6661356 ]]], shape=(2, 10, 4685), dtype=float32)\n"
          ]
        }
      ],
      "source": [
        "decoder=Decoder()\n",
        "logits=decoder(ex_content[0],tar)\n",
        "print(logits)"
      ]
    },
    {
      "cell_type": "code",
      "execution_count": null,
      "metadata": {
        "colab": {
          "base_uri": "https://localhost:8080/"
        },
        "id": "YMdSgxB746QF",
        "outputId": "119bafb1-ef0b-4851-9ad7-f459e28cc75e"
      },
      "outputs": [
        {
          "name": "stdout",
          "output_type": "stream",
          "text": [
            "Original sentence：[[8165  102    9 1025 7955 8166    0    0]\n",
            " [8165   16 4128 5485   12 2476 7955 8166]]\n",
            "[<tf.Tensor: shape=(2, 1), dtype=int64, numpy=\n",
            "array([[1109],\n",
            "       [4209]])>, <tf.Tensor: shape=(2, 1), dtype=int64, numpy=\n",
            "array([[ 702],\n",
            "       [3479]])>, <tf.Tensor: shape=(2, 1), dtype=int64, numpy=\n",
            "array([[4252],\n",
            "       [3669]])>, <tf.Tensor: shape=(2, 1), dtype=int64, numpy=\n",
            "array([[1560],\n",
            "       [4437]])>, <tf.Tensor: shape=(2, 1), dtype=int64, numpy=\n",
            "array([[ 930],\n",
            "       [2833]])>, <tf.Tensor: shape=(2, 1), dtype=int64, numpy=\n",
            "array([[1769],\n",
            "       [3649]])>, <tf.Tensor: shape=(2, 1), dtype=int64, numpy=\n",
            "array([[3908],\n",
            "       [1216]])>, <tf.Tensor: shape=(2, 1), dtype=int64, numpy=\n",
            "array([[4676],\n",
            "       [1266]])>, <tf.Tensor: shape=(2, 1), dtype=int64, numpy=\n",
            "array([[1010],\n",
            "       [ 375]])>, <tf.Tensor: shape=(2, 1), dtype=int64, numpy=\n",
            "array([[2435],\n",
            "       [3785]])>]\n",
            "[[1109, 702, 4252, 1560, 930, 1769, 3908, 4676, 1010, 2435], [4209, 3479, 3669, 4437, 2833, 3649, 1216, 1266, 375, 3785]]\n",
            "龄线炖糖细碰翎�遗叉\n",
            "砭ê～\n",
            "贼嘀焦霍引懵\n"
          ]
        }
      ],
      "source": [
        "print(f\"Original sentence：{inp}\")\n",
        "next_token,done,state=decoder.get_initial_state(ex_content[0])\n",
        "tokens=[]\n",
        "\n",
        "for i in range(10):\n",
        "  next_token,done,state=decoder.get_next_token(ex_content[0],next_token,done,state,1)\n",
        "\n",
        "  tokens.append(next_token)\n",
        "print(tokens)\n",
        "tokens=tf.concat(tokens,axis=-1)\n",
        "tokens=tokens.numpy().tolist()\n",
        "print(tokens)\n",
        "for i in range(len(tokens)):\n",
        "  words=subword_encoder_zh.decode(tokens[i])\n",
        "  result=tf.strings.reduce_join(words)\n",
        "  print(result.numpy().decode('utf-8'))\n",
        "# 因為還沒訓練，跑出來的中文沒有意義，只是隨機取樣的結果"
      ]
    },
    {
      "cell_type": "code",
      "execution_count": null,
      "metadata": {
        "id": "x0ejIeQeigyL"
      },
      "outputs": [],
      "source": [
        "class Translator(tf.keras.Model):\n",
        "  def __init__(self,units):\n",
        "    super().__init__()\n",
        "    encoder=Encoder(units)\n",
        "    decoder=Decoder(units)\n",
        "\n",
        "    self.encoder=encoder\n",
        "    self.decoder=decoder\n",
        "\n",
        "  def call(self,context,target):\n",
        "    #print(type(inputs))\n",
        "    #context,target=inputs\n",
        "    context=self.encoder(context)\n",
        "    logits=self.decoder(context[0],target)\n",
        "\n",
        "      #TODO(b/250038731): remove this\n",
        "\n",
        "      # 目前不知道為何要刪除，之後有解答時在更新\n",
        "    try:\n",
        "        # Delete the keras mask, so keras doesn't scale the loss+accuracy.\n",
        "      del logits._keras_mask\n",
        "    except AttributeError:\n",
        "      pass\n",
        "\n",
        "    return logits\n"
      ]
    },
    {
      "cell_type": "code",
      "execution_count": null,
      "metadata": {
        "id": "LIz58lu_iAk-"
      },
      "outputs": [],
      "source": [
        "def masked_loss(y_true,y_pred):\n",
        "  loss_fn = tf.keras.losses.SparseCategoricalCrossentropy(from_logits=True,reduction='none')\n",
        "  loss=loss_fn(y_true,y_pred)\n",
        "\n",
        "  mask=tf.cast(y_true!=0,dtype=loss.dtype)\n",
        "  loss*=mask\n",
        "  return tf.reduce_mean(loss) #文本長度不盡相同，因此需 normalization\n",
        "\n",
        "def masked_acc(y_true, y_pred):\n",
        "  # Calculate the loss for each item in the batch.\n",
        "  y_pred = tf.argmax(y_pred, axis=-1) # 取一個軸中最大值的 index (最大代表機率最大)\n",
        "  y_pred = tf.cast(y_pred, y_true.dtype)\n",
        "\n",
        "  match = tf.cast(y_true == y_pred, tf.float32)\n",
        "  mask = tf.cast(y_true != 0, tf.float32)\n",
        "\n",
        "  return tf.reduce_sum(match)/tf.reduce_sum(mask)\n",
        "train_loss = tf.keras.metrics.Mean(name='train_loss')\n",
        "train_accuracy = tf.keras.metrics.SparseCategoricalAccuracy(\n",
        "    name='train_accuracy')"
      ]
    },
    {
      "cell_type": "code",
      "execution_count": null,
      "metadata": {
        "colab": {
          "base_uri": "https://localhost:8080/"
        },
        "id": "NLmGNrK-uZSC",
        "outputId": "caf3fac6-a6e7-4e24-f43e-fc5242887c90"
      },
      "outputs": [
        {
          "name": "stdout",
          "output_type": "stream",
          "text": [
            "tf.Tensor(0.20884116, shape=(), dtype=float32)\n"
          ]
        }
      ],
      "source": [
        "real = tf.constant([1, 1, 0], shape=(1, 3), dtype=tf.float32)\n",
        "pred = tf.constant([[0, 1], [0, 1], [0, 1]], dtype=tf.float32)\n",
        "print(masked_loss(real,pred))"
      ]
    },
    {
      "cell_type": "code",
      "execution_count": null,
      "metadata": {
        "colab": {
          "base_uri": "https://localhost:8080/"
        },
        "id": "z9uiSs0ntLY8",
        "outputId": "5295d12b-92d8-4142-9f1b-cd3d0f8f08ce"
      },
      "outputs": [
        {
          "name": "stdout",
          "output_type": "stream",
          "text": [
            "tf.Tensor(\n",
            "[[[-0.3997573   0.22985853 -0.34563777 ... -0.218378   -0.4147678\n",
            "    0.17566156]\n",
            "  [-0.3983437  -0.2369987   0.35856488 ... -0.27731246 -0.30288923\n",
            "   -0.20401235]\n",
            "  [ 0.198215    0.18273087  0.42200002 ...  0.2723736   0.49920782\n",
            "    0.23935194]\n",
            "  ...\n",
            "  [-0.23560672  0.12494224 -0.11374722 ... -0.19039136  0.06670847\n",
            "   -0.05699633]\n",
            "  [-0.23560672  0.12494224 -0.11374722 ... -0.19039136  0.06670847\n",
            "   -0.05699633]\n",
            "  [-0.23560672  0.12494224 -0.11374722 ... -0.19039136  0.06670847\n",
            "   -0.05699633]]\n",
            "\n",
            " [[-0.36735564  0.22103739 -0.321472   ... -0.20116776 -0.41373113\n",
            "    0.14958659]\n",
            "  [-0.39988726  0.15113534 -0.24203514 ... -0.07360122 -0.04336578\n",
            "    0.3070155 ]\n",
            "  [ 0.19507134  0.11394552 -0.2566413  ...  0.10139238 -0.03416552\n",
            "   -0.12688106]\n",
            "  ...\n",
            "  [ 0.38143608 -0.10307219 -0.30642617 ... -0.37838507 -0.6244611\n",
            "   -0.2371382 ]\n",
            "  [ 0.39582667  0.1702821   0.2690374  ... -0.35427707 -0.3023736\n",
            "   -0.00489966]\n",
            "  [ 0.4624551   0.56259155 -0.21018933 ... -0.24389815 -0.30366132\n",
            "   -0.5565856 ]]], shape=(2, 10, 4685), dtype=float32)\n"
          ]
        }
      ],
      "source": [
        "model=Translator(256)\n",
        "\n",
        "logits = model(inp, tar)\n",
        "print(logits)\n",
        "model.compile(optimizer='adam',\n",
        "              loss=masked_loss,\n",
        "              metrics=[masked_acc, masked_loss])\n",
        "optimizers = tf.keras.optimizers.Adam()"
      ]
    },
    {
      "cell_type": "code",
      "execution_count": null,
      "metadata": {
        "colab": {
          "base_uri": "https://localhost:8080/"
        },
        "id": "bm2GJbMYr9yO",
        "outputId": "e362b694-a725-45fa-c301-6185950bf374"
      },
      "outputs": [
        {
          "name": "stdout",
          "output_type": "stream",
          "text": [
            "已讀取最新的 checkpoint，模型已訓練 3 epochs。\n"
          ]
        }
      ],
      "source": [
        "checkpoint_path ='/content/drive/My Drive/model'\n",
        "checkpoint=tf.train.Checkpoint(model)\n",
        "ckpt_manager = tf.train.CheckpointManager(checkpoint, checkpoint_path, max_to_keep=5)\n",
        "if ckpt_manager.latest_checkpoint:\n",
        "  checkpoint.restore(ckpt_manager.latest_checkpoint)\n",
        "\n",
        "  # 用來確認之前訓練多少 epochs 了\n",
        "  last_epoch = int(ckpt_manager.latest_checkpoint.split(\"-\")[-1])\n",
        "  print(f'已讀取最新的 checkpoint，模型已訓練 {last_epoch} epochs。')\n",
        "else:\n",
        "  last_epoch = 0\n",
        "  print(\"沒找到 checkpoint，從頭訓練。\")"
      ]
    },
    {
      "cell_type": "code",
      "execution_count": null,
      "metadata": {
        "id": "QC9-R2pouH7x"
      },
      "outputs": [],
      "source": [
        "losses=[]\n",
        "accuracy=[]\n",
        "@tf.function  # 讓 TensorFlow 幫我們將 eager code 優化並加快運算\n",
        "def train_step(inp, tar,epochs):\n",
        "  # 前面說過的，用去尾的原始序列去預測下一個字的序列\n",
        "  tar_inp = tar[:, :-1]\n",
        "  tar_real = tar[:, 1:]\n",
        "\n",
        "\n",
        "  # 紀錄 Transformer 的所有運算過程以方便之後做梯度下降\n",
        "  with tf.GradientTape() as tape:\n",
        "    # 注意是丟入 `tar_inp` 而非 `tar`。記得將 `training` 參數設定為 True\n",
        "    predictions = model(inp,tar_inp)\n",
        "    # 跟影片中顯示的相同，計算左移一個字的序列跟模型預測分佈之間的差異，當作 loss\n",
        "    loss = masked_loss(tar_real, predictions)\n",
        "    acc=masked_acc(tar_real,predictions)\n",
        "    #accuracy.append(acc)\n",
        "    #losses.append(loss)\n",
        "    print(f'epochs:{epochs}, Loss:{loss}, acc:{acc}')\n",
        "\n",
        "\n",
        "\n",
        "  # 取出梯度並呼叫前面定義的 Adam optimizer 幫我們更新 Transformer 裡頭可訓練的參數\n",
        "  gradients = tape.gradient(loss, model.trainable_variables)\n",
        "  optimizers.apply_gradients(zip(gradients, model.trainable_variables))\n",
        "  train_loss(loss)\n",
        "  train_accuracy(tar_real, predictions)\n",
        "\n"
      ]
    },
    {
      "cell_type": "code",
      "execution_count": null,
      "metadata": {
        "id": "GFI_O_434HyP"
      },
      "outputs": [],
      "source": []
    },
    {
      "cell_type": "code",
      "execution_count": null,
      "metadata": {
        "colab": {
          "base_uri": "https://localhost:8080/"
        },
        "id": "Hve3lhhzBDns",
        "outputId": "f1f1606b-a82b-43de-c058-7db2a1904d6c"
      },
      "outputs": [
        {
          "name": "stdout",
          "output_type": "stream",
          "text": [
            "Saving checkpoint for epoch 3 at /content/drive/My Drive/model/ckpt-6\n"
          ]
        }
      ],
      "source": [
        "for epoch in range(3):\n",
        "  print(\"----------------------------------------------------------------------------------------\")\n",
        "  for inp, tar in train_dataset:\n",
        "    train_step(inp, tar,epoch)\n",
        "  clear_output()\n",
        "  if (epoch + 1) % 1 == 0:\n",
        "    ckpt_save_path = ckpt_manager.save()\n",
        "    print ('Saving checkpoint for epoch {} at {}'.format(epoch+1,ckpt_save_path))"
      ]
    },
    {
      "cell_type": "code",
      "execution_count": null,
      "metadata": {
        "id": "K13h3yP5xkw7"
      },
      "outputs": [],
      "source": [
        "# 給定一個英文句子，輸出預測的中文索引數字序列以及注意權重 dict\n",
        "def evaluate(inp_sentence):\n",
        "\n",
        "  # 準備英文句子前後會加上的 <start>, <end>\n",
        "  start_token = [subword_encoder_en.vocab_size]\n",
        "  end_token = [subword_encoder_en.vocab_size + 1]\n",
        "\n",
        "  # inp_sentence 是字串，我們用 Subword Tokenizer 將其變成子詞的索引序列\n",
        "  # 並在前後加上 BOS / EOS\n",
        "  inp_sentence = start_token + subword_encoder_en.encode(inp_sentence) + end_token\n",
        "  encoder_input = tf.expand_dims(inp_sentence, 0)\n",
        "\n",
        "  # 跟我們在影片裡看到的一樣，Decoder 在第一個時間點吃進去的輸入\n",
        "  # 是一個只包含一個中文 <start> token 的序列\n",
        "  decoder_input = [subword_encoder_zh.vocab_size]\n",
        "  output = tf.expand_dims(decoder_input, 0)  # 增加 batch 維度\n",
        "\n",
        "  # auto-regressive，一次生成一個中文字並將預測加到輸入再度餵進 Transformer\n",
        "  for i in range(40):\n",
        "\n",
        "\n",
        "    # predictions.shape == (batch_size, seq_len, vocab_size)\n",
        "    predictions= model(encoder_input, output)\n",
        "\n",
        "\n",
        "\n",
        "    # 將序列中最後一個 distribution 取出，並將裡頭值最大的當作模型最新的預測字\n",
        "    predictions = predictions[: , -1:, :]  # (batch_size, 1, vocab_size)\n",
        "\n",
        "    predicted_id = tf.cast(tf.argmax(predictions, axis=-1), tf.int32)\n",
        "\n",
        "    # 遇到 <end> token 就停止回傳，代表模型已經產生完結果\n",
        "    if tf.equal(predicted_id, subword_encoder_zh.vocab_size + 1):\n",
        "      return tf.squeeze(output, axis=0)\n",
        "\n",
        "    #將 Transformer 新預測的中文索引加到輸出序列中，讓 Decoder 可以在產生\n",
        "    # 下個中文字的時候關注到最新的 `predicted_id`\n",
        "    output = tf.concat([output, predicted_id], axis=-1)\n",
        "\n",
        "  # 將 batch 的維度去掉後回傳預測的中文索引序列\n",
        "  return tf.squeeze(output, axis=0)"
      ]
    },
    {
      "cell_type": "code",
      "execution_count": null,
      "metadata": {
        "colab": {
          "base_uri": "https://localhost:8080/"
        },
        "id": "D8u65Ew93IhP",
        "outputId": "c5b4cee4-0fcb-41e5-b676-c179e0b73c94"
      },
      "outputs": [
        {
          "name": "stdout",
          "output_type": "stream",
          "text": [
            "tf.Tensor(\n",
            "[4683   68   20  208   15   10  127    1  153   27  420  223  539  258\n",
            "   73  207  280  215  804    3], shape=(20,), dtype=int32)\n",
            "我们认为这样的需要采取措施就必须立刻。\n"
          ]
        }
      ],
      "source": [
        "pre=evaluate('China, India, and others have enjoyed continuing economic growth.')\n",
        "print(pre)\n",
        "print(tf.strings.reduce_join(subword_encoder_zh.decode(pre[1:])).numpy().decode('utf-8'))"
      ]
    },
    {
      "cell_type": "code",
      "execution_count": null,
      "metadata": {
        "id": "BKjdlrygTw_u"
      },
      "outputs": [],
      "source": [
        "# 'We appreciate the need for immediate action.'=> 我们对此必须马上采取行动。\n",
        "# 'I gently tap Musk on the back in order to remind him that teacher comes.' =>我对于马比利为了宽松政策筹划，我提醒了教师反对师卷入其老师。\n",
        "# I did absolutely nothing wrong, I never had an affair with him  我曾经绝对错，我绝对不错，我绝对不对他的错误。\n",
        "\n"
      ]
    }
  ],
  "metadata": {
    "accelerator": "GPU",
    "colab": {
      "include_colab_link": true,
      "provenance": []
    },
    "gpuClass": "standard",
    "kernelspec": {
      "display_name": "Python 3",
      "name": "python3"
    },
    "language_info": {
      "name": "python"
    },
    "widgets": {
      "application/vnd.jupyter.widget-state+json": {
        "0041b9ef4de34f9b918684f56fda34a0": {
          "model_module": "@jupyter-widgets/controls",
          "model_module_version": "1.5.0",
          "model_name": "HTMLModel",
          "state": {
            "_dom_classes": [],
            "_model_module": "@jupyter-widgets/controls",
            "_model_module_version": "1.5.0",
            "_model_name": "HTMLModel",
            "_view_count": null,
            "_view_module": "@jupyter-widgets/controls",
            "_view_module_version": "1.5.0",
            "_view_name": "HTMLView",
            "description": "",
            "description_tooltip": null,
            "layout": "IPY_MODEL_b3eaed5525724fbcbc2a21a328bd8665",
            "placeholder": "​",
            "style": "IPY_MODEL_4a619b39e2f84ae1a1e55515d5eb5a98",
            "value": " 1/1 [00:06&lt;00:00,  6.91s/ file]"
          }
        },
        "0368977cfadc46ff8ab9a53f1a00a62b": {
          "model_module": "@jupyter-widgets/base",
          "model_module_version": "1.2.0",
          "model_name": "LayoutModel",
          "state": {
            "_model_module": "@jupyter-widgets/base",
            "_model_module_version": "1.2.0",
            "_model_name": "LayoutModel",
            "_view_count": null,
            "_view_module": "@jupyter-widgets/base",
            "_view_module_version": "1.2.0",
            "_view_name": "LayoutView",
            "align_content": null,
            "align_items": null,
            "align_self": null,
            "border": null,
            "bottom": null,
            "display": null,
            "flex": null,
            "flex_flow": null,
            "grid_area": null,
            "grid_auto_columns": null,
            "grid_auto_flow": null,
            "grid_auto_rows": null,
            "grid_column": null,
            "grid_gap": null,
            "grid_row": null,
            "grid_template_areas": null,
            "grid_template_columns": null,
            "grid_template_rows": null,
            "height": null,
            "justify_content": null,
            "justify_items": null,
            "left": null,
            "margin": null,
            "max_height": null,
            "max_width": null,
            "min_height": null,
            "min_width": null,
            "object_fit": null,
            "object_position": null,
            "order": null,
            "overflow": null,
            "overflow_x": null,
            "overflow_y": null,
            "padding": null,
            "right": null,
            "top": null,
            "visibility": null,
            "width": "20px"
          }
        },
        "03b6404437ed4808b69518c84f972754": {
          "model_module": "@jupyter-widgets/base",
          "model_module_version": "1.2.0",
          "model_name": "LayoutModel",
          "state": {
            "_model_module": "@jupyter-widgets/base",
            "_model_module_version": "1.2.0",
            "_model_name": "LayoutModel",
            "_view_count": null,
            "_view_module": "@jupyter-widgets/base",
            "_view_module_version": "1.2.0",
            "_view_name": "LayoutView",
            "align_content": null,
            "align_items": null,
            "align_self": null,
            "border": null,
            "bottom": null,
            "display": null,
            "flex": null,
            "flex_flow": null,
            "grid_area": null,
            "grid_auto_columns": null,
            "grid_auto_flow": null,
            "grid_auto_rows": null,
            "grid_column": null,
            "grid_gap": null,
            "grid_row": null,
            "grid_template_areas": null,
            "grid_template_columns": null,
            "grid_template_rows": null,
            "height": null,
            "justify_content": null,
            "justify_items": null,
            "left": null,
            "margin": null,
            "max_height": null,
            "max_width": null,
            "min_height": null,
            "min_width": null,
            "object_fit": null,
            "object_position": null,
            "order": null,
            "overflow": null,
            "overflow_x": null,
            "overflow_y": null,
            "padding": null,
            "right": null,
            "top": null,
            "visibility": null,
            "width": null
          }
        },
        "063f24abb78840fe81e5b3af62cdd91f": {
          "model_module": "@jupyter-widgets/controls",
          "model_module_version": "1.5.0",
          "model_name": "HTMLModel",
          "state": {
            "_dom_classes": [],
            "_model_module": "@jupyter-widgets/controls",
            "_model_module_version": "1.5.0",
            "_model_name": "HTMLModel",
            "_view_count": null,
            "_view_module": "@jupyter-widgets/controls",
            "_view_module_version": "1.5.0",
            "_view_name": "HTMLView",
            "description": "",
            "description_tooltip": null,
            "layout": "IPY_MODEL_37e42f36346d42609fef48121b8a9572",
            "placeholder": "​",
            "style": "IPY_MODEL_6eab7daf87914f35bc5ab2e91ad639b6",
            "value": "Extraction completed...: "
          }
        },
        "07ab5ea567684c9d9e013f2668f3b097": {
          "model_module": "@jupyter-widgets/base",
          "model_module_version": "1.2.0",
          "model_name": "LayoutModel",
          "state": {
            "_model_module": "@jupyter-widgets/base",
            "_model_module_version": "1.2.0",
            "_model_name": "LayoutModel",
            "_view_count": null,
            "_view_module": "@jupyter-widgets/base",
            "_view_module_version": "1.2.0",
            "_view_name": "LayoutView",
            "align_content": null,
            "align_items": null,
            "align_self": null,
            "border": null,
            "bottom": null,
            "display": null,
            "flex": null,
            "flex_flow": null,
            "grid_area": null,
            "grid_auto_columns": null,
            "grid_auto_flow": null,
            "grid_auto_rows": null,
            "grid_column": null,
            "grid_gap": null,
            "grid_row": null,
            "grid_template_areas": null,
            "grid_template_columns": null,
            "grid_template_rows": null,
            "height": null,
            "justify_content": null,
            "justify_items": null,
            "left": null,
            "margin": null,
            "max_height": null,
            "max_width": null,
            "min_height": null,
            "min_width": null,
            "object_fit": null,
            "object_position": null,
            "order": null,
            "overflow": null,
            "overflow_x": null,
            "overflow_y": null,
            "padding": null,
            "right": null,
            "top": null,
            "visibility": null,
            "width": null
          }
        },
        "0c173956570b4d64892b979f0fa9b829": {
          "model_module": "@jupyter-widgets/base",
          "model_module_version": "1.2.0",
          "model_name": "LayoutModel",
          "state": {
            "_model_module": "@jupyter-widgets/base",
            "_model_module_version": "1.2.0",
            "_model_name": "LayoutModel",
            "_view_count": null,
            "_view_module": "@jupyter-widgets/base",
            "_view_module_version": "1.2.0",
            "_view_name": "LayoutView",
            "align_content": null,
            "align_items": null,
            "align_self": null,
            "border": null,
            "bottom": null,
            "display": null,
            "flex": null,
            "flex_flow": null,
            "grid_area": null,
            "grid_auto_columns": null,
            "grid_auto_flow": null,
            "grid_auto_rows": null,
            "grid_column": null,
            "grid_gap": null,
            "grid_row": null,
            "grid_template_areas": null,
            "grid_template_columns": null,
            "grid_template_rows": null,
            "height": null,
            "justify_content": null,
            "justify_items": null,
            "left": null,
            "margin": null,
            "max_height": null,
            "max_width": null,
            "min_height": null,
            "min_width": null,
            "object_fit": null,
            "object_position": null,
            "order": null,
            "overflow": null,
            "overflow_x": null,
            "overflow_y": null,
            "padding": null,
            "right": null,
            "top": null,
            "visibility": null,
            "width": "20px"
          }
        },
        "1de7b9c8c89641c297d2f6381be76a29": {
          "model_module": "@jupyter-widgets/base",
          "model_module_version": "1.2.0",
          "model_name": "LayoutModel",
          "state": {
            "_model_module": "@jupyter-widgets/base",
            "_model_module_version": "1.2.0",
            "_model_name": "LayoutModel",
            "_view_count": null,
            "_view_module": "@jupyter-widgets/base",
            "_view_module_version": "1.2.0",
            "_view_name": "LayoutView",
            "align_content": null,
            "align_items": null,
            "align_self": null,
            "border": null,
            "bottom": null,
            "display": null,
            "flex": null,
            "flex_flow": null,
            "grid_area": null,
            "grid_auto_columns": null,
            "grid_auto_flow": null,
            "grid_auto_rows": null,
            "grid_column": null,
            "grid_gap": null,
            "grid_row": null,
            "grid_template_areas": null,
            "grid_template_columns": null,
            "grid_template_rows": null,
            "height": null,
            "justify_content": null,
            "justify_items": null,
            "left": null,
            "margin": null,
            "max_height": null,
            "max_width": null,
            "min_height": null,
            "min_width": null,
            "object_fit": null,
            "object_position": null,
            "order": null,
            "overflow": null,
            "overflow_x": null,
            "overflow_y": null,
            "padding": null,
            "right": null,
            "top": null,
            "visibility": null,
            "width": null
          }
        },
        "28680af4b2f744ebba46a0ae9c731e5a": {
          "model_module": "@jupyter-widgets/controls",
          "model_module_version": "1.5.0",
          "model_name": "HTMLModel",
          "state": {
            "_dom_classes": [],
            "_model_module": "@jupyter-widgets/controls",
            "_model_module_version": "1.5.0",
            "_model_name": "HTMLModel",
            "_view_count": null,
            "_view_module": "@jupyter-widgets/controls",
            "_view_module_version": "1.5.0",
            "_view_name": "HTMLView",
            "description": "",
            "description_tooltip": null,
            "layout": "IPY_MODEL_1de7b9c8c89641c297d2f6381be76a29",
            "placeholder": "​",
            "style": "IPY_MODEL_9ec1cdeab2554188832ca29f167b232a",
            "value": "Shuffling /root/tensorflow_datasets/wmt_translate/zh-en/0.0.3.incompleteFAHOQX/wmt_translate-train.tfrecord*...:  92%"
          }
        },
        "2abe0d1c85e54764b9ec3d0b92563937": {
          "model_module": "@jupyter-widgets/controls",
          "model_module_version": "1.5.0",
          "model_name": "ProgressStyleModel",
          "state": {
            "_model_module": "@jupyter-widgets/controls",
            "_model_module_version": "1.5.0",
            "_model_name": "ProgressStyleModel",
            "_view_count": null,
            "_view_module": "@jupyter-widgets/base",
            "_view_module_version": "1.2.0",
            "_view_name": "StyleView",
            "bar_color": null,
            "description_width": ""
          }
        },
        "31ab4591cf6d4fffada5a84bd4ad04b7": {
          "model_module": "@jupyter-widgets/base",
          "model_module_version": "1.2.0",
          "model_name": "LayoutModel",
          "state": {
            "_model_module": "@jupyter-widgets/base",
            "_model_module_version": "1.2.0",
            "_model_name": "LayoutModel",
            "_view_count": null,
            "_view_module": "@jupyter-widgets/base",
            "_view_module_version": "1.2.0",
            "_view_name": "LayoutView",
            "align_content": null,
            "align_items": null,
            "align_self": null,
            "border": null,
            "bottom": null,
            "display": null,
            "flex": null,
            "flex_flow": null,
            "grid_area": null,
            "grid_auto_columns": null,
            "grid_auto_flow": null,
            "grid_auto_rows": null,
            "grid_column": null,
            "grid_gap": null,
            "grid_row": null,
            "grid_template_areas": null,
            "grid_template_columns": null,
            "grid_template_rows": null,
            "height": null,
            "justify_content": null,
            "justify_items": null,
            "left": null,
            "margin": null,
            "max_height": null,
            "max_width": null,
            "min_height": null,
            "min_width": null,
            "object_fit": null,
            "object_position": null,
            "order": null,
            "overflow": null,
            "overflow_x": null,
            "overflow_y": null,
            "padding": null,
            "right": null,
            "top": null,
            "visibility": null,
            "width": null
          }
        },
        "345a66c750a44b34997ce9158d32ec58": {
          "model_module": "@jupyter-widgets/controls",
          "model_module_version": "1.5.0",
          "model_name": "FloatProgressModel",
          "state": {
            "_dom_classes": [],
            "_model_module": "@jupyter-widgets/controls",
            "_model_module_version": "1.5.0",
            "_model_name": "FloatProgressModel",
            "_view_count": null,
            "_view_module": "@jupyter-widgets/controls",
            "_view_module_version": "1.5.0",
            "_view_name": "ProgressView",
            "bar_style": "success",
            "description": "",
            "description_tooltip": null,
            "layout": "IPY_MODEL_0c173956570b4d64892b979f0fa9b829",
            "max": 1,
            "min": 0,
            "orientation": "horizontal",
            "style": "IPY_MODEL_c0d6e1aceb3743d8847c8d22d39b4e83",
            "value": 0
          }
        },
        "37b76dd935e343408231a465c3a44227": {
          "model_module": "@jupyter-widgets/controls",
          "model_module_version": "1.5.0",
          "model_name": "DescriptionStyleModel",
          "state": {
            "_model_module": "@jupyter-widgets/controls",
            "_model_module_version": "1.5.0",
            "_model_name": "DescriptionStyleModel",
            "_view_count": null,
            "_view_module": "@jupyter-widgets/base",
            "_view_module_version": "1.2.0",
            "_view_name": "StyleView",
            "description_width": ""
          }
        },
        "37e42f36346d42609fef48121b8a9572": {
          "model_module": "@jupyter-widgets/base",
          "model_module_version": "1.2.0",
          "model_name": "LayoutModel",
          "state": {
            "_model_module": "@jupyter-widgets/base",
            "_model_module_version": "1.2.0",
            "_model_name": "LayoutModel",
            "_view_count": null,
            "_view_module": "@jupyter-widgets/base",
            "_view_module_version": "1.2.0",
            "_view_name": "LayoutView",
            "align_content": null,
            "align_items": null,
            "align_self": null,
            "border": null,
            "bottom": null,
            "display": null,
            "flex": null,
            "flex_flow": null,
            "grid_area": null,
            "grid_auto_columns": null,
            "grid_auto_flow": null,
            "grid_auto_rows": null,
            "grid_column": null,
            "grid_gap": null,
            "grid_row": null,
            "grid_template_areas": null,
            "grid_template_columns": null,
            "grid_template_rows": null,
            "height": null,
            "justify_content": null,
            "justify_items": null,
            "left": null,
            "margin": null,
            "max_height": null,
            "max_width": null,
            "min_height": null,
            "min_width": null,
            "object_fit": null,
            "object_position": null,
            "order": null,
            "overflow": null,
            "overflow_x": null,
            "overflow_y": null,
            "padding": null,
            "right": null,
            "top": null,
            "visibility": null,
            "width": null
          }
        },
        "38a502fd81ce45c492f4681aa65e9aa2": {
          "model_module": "@jupyter-widgets/controls",
          "model_module_version": "1.5.0",
          "model_name": "ProgressStyleModel",
          "state": {
            "_model_module": "@jupyter-widgets/controls",
            "_model_module_version": "1.5.0",
            "_model_name": "ProgressStyleModel",
            "_view_count": null,
            "_view_module": "@jupyter-widgets/base",
            "_view_module_version": "1.2.0",
            "_view_name": "StyleView",
            "bar_color": null,
            "description_width": ""
          }
        },
        "38c8ef116eee492a8f482687a85c74b4": {
          "model_module": "@jupyter-widgets/controls",
          "model_module_version": "1.5.0",
          "model_name": "FloatProgressModel",
          "state": {
            "_dom_classes": [],
            "_model_module": "@jupyter-widgets/controls",
            "_model_module_version": "1.5.0",
            "_model_name": "FloatProgressModel",
            "_view_count": null,
            "_view_module": "@jupyter-widgets/controls",
            "_view_module_version": "1.5.0",
            "_view_name": "ProgressView",
            "bar_style": "info",
            "description": "",
            "description_tooltip": null,
            "layout": "IPY_MODEL_0368977cfadc46ff8ab9a53f1a00a62b",
            "max": 1,
            "min": 0,
            "orientation": "horizontal",
            "style": "IPY_MODEL_c518700810db456eb6121a31e740c2d6",
            "value": 1
          }
        },
        "3c7005cfcbef4cf5b782ba215679249f": {
          "model_module": "@jupyter-widgets/controls",
          "model_module_version": "1.5.0",
          "model_name": "HTMLModel",
          "state": {
            "_dom_classes": [],
            "_model_module": "@jupyter-widgets/controls",
            "_model_module_version": "1.5.0",
            "_model_name": "HTMLModel",
            "_view_count": null,
            "_view_module": "@jupyter-widgets/controls",
            "_view_module_version": "1.5.0",
            "_view_name": "HTMLView",
            "description": "",
            "description_tooltip": null,
            "layout": "IPY_MODEL_31ab4591cf6d4fffada5a84bd4ad04b7",
            "placeholder": "​",
            "style": "IPY_MODEL_c82836cb80534e2ca23f812ed89b1544",
            "value": " 34/34 [00:06&lt;00:00, 11.42 MiB/s]"
          }
        },
        "3ee0b7ff55de461293baa82fa20cf339": {
          "model_module": "@jupyter-widgets/controls",
          "model_module_version": "1.5.0",
          "model_name": "HTMLModel",
          "state": {
            "_dom_classes": [],
            "_model_module": "@jupyter-widgets/controls",
            "_model_module_version": "1.5.0",
            "_model_name": "HTMLModel",
            "_view_count": null,
            "_view_module": "@jupyter-widgets/controls",
            "_view_module_version": "1.5.0",
            "_view_name": "HTMLView",
            "description": "",
            "description_tooltip": null,
            "layout": "IPY_MODEL_76bf74c4b5f544dc8bed85aa08881df3",
            "placeholder": "​",
            "style": "IPY_MODEL_99ad056f991c4317a445aa6afcb4af9e",
            "value": "Extraction completed...: 100%"
          }
        },
        "4759ad05049545019d026d231a8fb58c": {
          "model_module": "@jupyter-widgets/base",
          "model_module_version": "1.2.0",
          "model_name": "LayoutModel",
          "state": {
            "_model_module": "@jupyter-widgets/base",
            "_model_module_version": "1.2.0",
            "_model_name": "LayoutModel",
            "_view_count": null,
            "_view_module": "@jupyter-widgets/base",
            "_view_module_version": "1.2.0",
            "_view_name": "LayoutView",
            "align_content": null,
            "align_items": null,
            "align_self": null,
            "border": null,
            "bottom": null,
            "display": null,
            "flex": null,
            "flex_flow": null,
            "grid_area": null,
            "grid_auto_columns": null,
            "grid_auto_flow": null,
            "grid_auto_rows": null,
            "grid_column": null,
            "grid_gap": null,
            "grid_row": null,
            "grid_template_areas": null,
            "grid_template_columns": null,
            "grid_template_rows": null,
            "height": null,
            "justify_content": null,
            "justify_items": null,
            "left": null,
            "margin": null,
            "max_height": null,
            "max_width": null,
            "min_height": null,
            "min_width": null,
            "object_fit": null,
            "object_position": null,
            "order": null,
            "overflow": null,
            "overflow_x": null,
            "overflow_y": null,
            "padding": null,
            "right": null,
            "top": null,
            "visibility": "hidden",
            "width": null
          }
        },
        "4a619b39e2f84ae1a1e55515d5eb5a98": {
          "model_module": "@jupyter-widgets/controls",
          "model_module_version": "1.5.0",
          "model_name": "DescriptionStyleModel",
          "state": {
            "_model_module": "@jupyter-widgets/controls",
            "_model_module_version": "1.5.0",
            "_model_name": "DescriptionStyleModel",
            "_view_count": null,
            "_view_module": "@jupyter-widgets/base",
            "_view_module_version": "1.2.0",
            "_view_name": "StyleView",
            "description_width": ""
          }
        },
        "4b10c065dacd4d5692449cbba35da0b8": {
          "model_module": "@jupyter-widgets/base",
          "model_module_version": "1.2.0",
          "model_name": "LayoutModel",
          "state": {
            "_model_module": "@jupyter-widgets/base",
            "_model_module_version": "1.2.0",
            "_model_name": "LayoutModel",
            "_view_count": null,
            "_view_module": "@jupyter-widgets/base",
            "_view_module_version": "1.2.0",
            "_view_name": "LayoutView",
            "align_content": null,
            "align_items": null,
            "align_self": null,
            "border": null,
            "bottom": null,
            "display": null,
            "flex": null,
            "flex_flow": null,
            "grid_area": null,
            "grid_auto_columns": null,
            "grid_auto_flow": null,
            "grid_auto_rows": null,
            "grid_column": null,
            "grid_gap": null,
            "grid_row": null,
            "grid_template_areas": null,
            "grid_template_columns": null,
            "grid_template_rows": null,
            "height": null,
            "justify_content": null,
            "justify_items": null,
            "left": null,
            "margin": null,
            "max_height": null,
            "max_width": null,
            "min_height": null,
            "min_width": null,
            "object_fit": null,
            "object_position": null,
            "order": null,
            "overflow": null,
            "overflow_x": null,
            "overflow_y": null,
            "padding": null,
            "right": null,
            "top": null,
            "visibility": null,
            "width": null
          }
        },
        "4d11d3ef14614fe6ae2c6d30a5f14401": {
          "model_module": "@jupyter-widgets/base",
          "model_module_version": "1.2.0",
          "model_name": "LayoutModel",
          "state": {
            "_model_module": "@jupyter-widgets/base",
            "_model_module_version": "1.2.0",
            "_model_name": "LayoutModel",
            "_view_count": null,
            "_view_module": "@jupyter-widgets/base",
            "_view_module_version": "1.2.0",
            "_view_name": "LayoutView",
            "align_content": null,
            "align_items": null,
            "align_self": null,
            "border": null,
            "bottom": null,
            "display": null,
            "flex": null,
            "flex_flow": null,
            "grid_area": null,
            "grid_auto_columns": null,
            "grid_auto_flow": null,
            "grid_auto_rows": null,
            "grid_column": null,
            "grid_gap": null,
            "grid_row": null,
            "grid_template_areas": null,
            "grid_template_columns": null,
            "grid_template_rows": null,
            "height": null,
            "justify_content": null,
            "justify_items": null,
            "left": null,
            "margin": null,
            "max_height": null,
            "max_width": null,
            "min_height": null,
            "min_width": null,
            "object_fit": null,
            "object_position": null,
            "order": null,
            "overflow": null,
            "overflow_x": null,
            "overflow_y": null,
            "padding": null,
            "right": null,
            "top": null,
            "visibility": null,
            "width": "20px"
          }
        },
        "4d5c451b35a447b9b42327579da73731": {
          "model_module": "@jupyter-widgets/controls",
          "model_module_version": "1.5.0",
          "model_name": "HTMLModel",
          "state": {
            "_dom_classes": [],
            "_model_module": "@jupyter-widgets/controls",
            "_model_module_version": "1.5.0",
            "_model_name": "HTMLModel",
            "_view_count": null,
            "_view_module": "@jupyter-widgets/controls",
            "_view_module_version": "1.5.0",
            "_view_name": "HTMLView",
            "description": "",
            "description_tooltip": null,
            "layout": "IPY_MODEL_e256ab9f0f0b446d80f718b49d79cf44",
            "placeholder": "​",
            "style": "IPY_MODEL_f96ecc7299894f009bd7246962c96c16",
            "value": " 1/1 [00:06&lt;00:00,  6.18s/ url]"
          }
        },
        "5b81848a6f88455ebf57ac0d198930ee": {
          "model_module": "@jupyter-widgets/controls",
          "model_module_version": "1.5.0",
          "model_name": "HTMLModel",
          "state": {
            "_dom_classes": [],
            "_model_module": "@jupyter-widgets/controls",
            "_model_module_version": "1.5.0",
            "_model_name": "HTMLModel",
            "_view_count": null,
            "_view_module": "@jupyter-widgets/controls",
            "_view_module_version": "1.5.0",
            "_view_name": "HTMLView",
            "description": "",
            "description_tooltip": null,
            "layout": "IPY_MODEL_07ab5ea567684c9d9e013f2668f3b097",
            "placeholder": "​",
            "style": "IPY_MODEL_9e47519fce5a4a7fbf89e7cfe6637134",
            "value": " 1/1 [00:28&lt;00:00, 28.44s/ splits]"
          }
        },
        "5bfc4dc3b6674db9a21a1051b4fa3760": {
          "model_module": "@jupyter-widgets/base",
          "model_module_version": "1.2.0",
          "model_name": "LayoutModel",
          "state": {
            "_model_module": "@jupyter-widgets/base",
            "_model_module_version": "1.2.0",
            "_model_name": "LayoutModel",
            "_view_count": null,
            "_view_module": "@jupyter-widgets/base",
            "_view_module_version": "1.2.0",
            "_view_name": "LayoutView",
            "align_content": null,
            "align_items": null,
            "align_self": null,
            "border": null,
            "bottom": null,
            "display": null,
            "flex": null,
            "flex_flow": null,
            "grid_area": null,
            "grid_auto_columns": null,
            "grid_auto_flow": null,
            "grid_auto_rows": null,
            "grid_column": null,
            "grid_gap": null,
            "grid_row": null,
            "grid_template_areas": null,
            "grid_template_columns": null,
            "grid_template_rows": null,
            "height": null,
            "justify_content": null,
            "justify_items": null,
            "left": null,
            "margin": null,
            "max_height": null,
            "max_width": null,
            "min_height": null,
            "min_width": null,
            "object_fit": null,
            "object_position": null,
            "order": null,
            "overflow": null,
            "overflow_x": null,
            "overflow_y": null,
            "padding": null,
            "right": null,
            "top": null,
            "visibility": null,
            "width": null
          }
        },
        "5ee93fa0eb374382ad2edc3b8ae2d01b": {
          "model_module": "@jupyter-widgets/controls",
          "model_module_version": "1.5.0",
          "model_name": "ProgressStyleModel",
          "state": {
            "_model_module": "@jupyter-widgets/controls",
            "_model_module_version": "1.5.0",
            "_model_name": "ProgressStyleModel",
            "_view_count": null,
            "_view_module": "@jupyter-widgets/base",
            "_view_module_version": "1.2.0",
            "_view_name": "StyleView",
            "bar_color": null,
            "description_width": ""
          }
        },
        "60cdc4a08f8e4b44b071a854609ae1a4": {
          "model_module": "@jupyter-widgets/controls",
          "model_module_version": "1.5.0",
          "model_name": "DescriptionStyleModel",
          "state": {
            "_model_module": "@jupyter-widgets/controls",
            "_model_module_version": "1.5.0",
            "_model_name": "DescriptionStyleModel",
            "_view_count": null,
            "_view_module": "@jupyter-widgets/base",
            "_view_module_version": "1.2.0",
            "_view_name": "StyleView",
            "description_width": ""
          }
        },
        "63f9679369b24bcc859aadc266e4409a": {
          "model_module": "@jupyter-widgets/controls",
          "model_module_version": "1.5.0",
          "model_name": "HBoxModel",
          "state": {
            "_dom_classes": [],
            "_model_module": "@jupyter-widgets/controls",
            "_model_module_version": "1.5.0",
            "_model_name": "HBoxModel",
            "_view_count": null,
            "_view_module": "@jupyter-widgets/controls",
            "_view_module_version": "1.5.0",
            "_view_name": "HBoxView",
            "box_style": "",
            "children": [
              "IPY_MODEL_9bd5fd6e1da6464e98ac50da63acb796",
              "IPY_MODEL_a0c1d729091a4e9e8bc1eaefbb15f834",
              "IPY_MODEL_4d5c451b35a447b9b42327579da73731"
            ],
            "layout": "IPY_MODEL_75ba7b1aa53a40e787f186402d4d7b68"
          }
        },
        "6d06900c679d4661b090a99b17a405f6": {
          "model_module": "@jupyter-widgets/base",
          "model_module_version": "1.2.0",
          "model_name": "LayoutModel",
          "state": {
            "_model_module": "@jupyter-widgets/base",
            "_model_module_version": "1.2.0",
            "_model_name": "LayoutModel",
            "_view_count": null,
            "_view_module": "@jupyter-widgets/base",
            "_view_module_version": "1.2.0",
            "_view_name": "LayoutView",
            "align_content": null,
            "align_items": null,
            "align_self": null,
            "border": null,
            "bottom": null,
            "display": null,
            "flex": null,
            "flex_flow": null,
            "grid_area": null,
            "grid_auto_columns": null,
            "grid_auto_flow": null,
            "grid_auto_rows": null,
            "grid_column": null,
            "grid_gap": null,
            "grid_row": null,
            "grid_template_areas": null,
            "grid_template_columns": null,
            "grid_template_rows": null,
            "height": null,
            "justify_content": null,
            "justify_items": null,
            "left": null,
            "margin": null,
            "max_height": null,
            "max_width": null,
            "min_height": null,
            "min_width": null,
            "object_fit": null,
            "object_position": null,
            "order": null,
            "overflow": null,
            "overflow_x": null,
            "overflow_y": null,
            "padding": null,
            "right": null,
            "top": null,
            "visibility": null,
            "width": null
          }
        },
        "6eab7daf87914f35bc5ab2e91ad639b6": {
          "model_module": "@jupyter-widgets/controls",
          "model_module_version": "1.5.0",
          "model_name": "DescriptionStyleModel",
          "state": {
            "_model_module": "@jupyter-widgets/controls",
            "_model_module_version": "1.5.0",
            "_model_name": "DescriptionStyleModel",
            "_view_count": null,
            "_view_module": "@jupyter-widgets/base",
            "_view_module_version": "1.2.0",
            "_view_name": "StyleView",
            "description_width": ""
          }
        },
        "744cbf4df444443fa6f404baadcbc04a": {
          "model_module": "@jupyter-widgets/base",
          "model_module_version": "1.2.0",
          "model_name": "LayoutModel",
          "state": {
            "_model_module": "@jupyter-widgets/base",
            "_model_module_version": "1.2.0",
            "_model_name": "LayoutModel",
            "_view_count": null,
            "_view_module": "@jupyter-widgets/base",
            "_view_module_version": "1.2.0",
            "_view_name": "LayoutView",
            "align_content": null,
            "align_items": null,
            "align_self": null,
            "border": null,
            "bottom": null,
            "display": null,
            "flex": null,
            "flex_flow": null,
            "grid_area": null,
            "grid_auto_columns": null,
            "grid_auto_flow": null,
            "grid_auto_rows": null,
            "grid_column": null,
            "grid_gap": null,
            "grid_row": null,
            "grid_template_areas": null,
            "grid_template_columns": null,
            "grid_template_rows": null,
            "height": null,
            "justify_content": null,
            "justify_items": null,
            "left": null,
            "margin": null,
            "max_height": null,
            "max_width": null,
            "min_height": null,
            "min_width": null,
            "object_fit": null,
            "object_position": null,
            "order": null,
            "overflow": null,
            "overflow_x": null,
            "overflow_y": null,
            "padding": null,
            "right": null,
            "top": null,
            "visibility": null,
            "width": null
          }
        },
        "747fba36f5f644bfafe9048f918fdb95": {
          "model_module": "@jupyter-widgets/controls",
          "model_module_version": "1.5.0",
          "model_name": "HBoxModel",
          "state": {
            "_dom_classes": [],
            "_model_module": "@jupyter-widgets/controls",
            "_model_module_version": "1.5.0",
            "_model_name": "HBoxModel",
            "_view_count": null,
            "_view_module": "@jupyter-widgets/controls",
            "_view_module_version": "1.5.0",
            "_view_name": "HBoxView",
            "box_style": "",
            "children": [
              "IPY_MODEL_3ee0b7ff55de461293baa82fa20cf339",
              "IPY_MODEL_afaf0e1f790e42aa94bc62e2d532d525",
              "IPY_MODEL_0041b9ef4de34f9b918684f56fda34a0"
            ],
            "layout": "IPY_MODEL_bd366cd256944995ac6bc224b2a120c0"
          }
        },
        "7482a467ba1f45e38589185827f01a5b": {
          "model_module": "@jupyter-widgets/controls",
          "model_module_version": "1.5.0",
          "model_name": "HTMLModel",
          "state": {
            "_dom_classes": [],
            "_model_module": "@jupyter-widgets/controls",
            "_model_module_version": "1.5.0",
            "_model_name": "HTMLModel",
            "_view_count": null,
            "_view_module": "@jupyter-widgets/controls",
            "_view_module_version": "1.5.0",
            "_view_name": "HTMLView",
            "description": "",
            "description_tooltip": null,
            "layout": "IPY_MODEL_8788e7c07c0342469c5950f8292c2111",
            "placeholder": "​",
            "style": "IPY_MODEL_dd6df7ecba8a4562aeb02442dcd187d3",
            "value": " 0/0 [00:00&lt;?, ? file/s]"
          }
        },
        "75ba7b1aa53a40e787f186402d4d7b68": {
          "model_module": "@jupyter-widgets/base",
          "model_module_version": "1.2.0",
          "model_name": "LayoutModel",
          "state": {
            "_model_module": "@jupyter-widgets/base",
            "_model_module_version": "1.2.0",
            "_model_name": "LayoutModel",
            "_view_count": null,
            "_view_module": "@jupyter-widgets/base",
            "_view_module_version": "1.2.0",
            "_view_name": "LayoutView",
            "align_content": null,
            "align_items": null,
            "align_self": null,
            "border": null,
            "bottom": null,
            "display": null,
            "flex": null,
            "flex_flow": null,
            "grid_area": null,
            "grid_auto_columns": null,
            "grid_auto_flow": null,
            "grid_auto_rows": null,
            "grid_column": null,
            "grid_gap": null,
            "grid_row": null,
            "grid_template_areas": null,
            "grid_template_columns": null,
            "grid_template_rows": null,
            "height": null,
            "justify_content": null,
            "justify_items": null,
            "left": null,
            "margin": null,
            "max_height": null,
            "max_width": null,
            "min_height": null,
            "min_width": null,
            "object_fit": null,
            "object_position": null,
            "order": null,
            "overflow": null,
            "overflow_x": null,
            "overflow_y": null,
            "padding": null,
            "right": null,
            "top": null,
            "visibility": null,
            "width": null
          }
        },
        "76bf74c4b5f544dc8bed85aa08881df3": {
          "model_module": "@jupyter-widgets/base",
          "model_module_version": "1.2.0",
          "model_name": "LayoutModel",
          "state": {
            "_model_module": "@jupyter-widgets/base",
            "_model_module_version": "1.2.0",
            "_model_name": "LayoutModel",
            "_view_count": null,
            "_view_module": "@jupyter-widgets/base",
            "_view_module_version": "1.2.0",
            "_view_name": "LayoutView",
            "align_content": null,
            "align_items": null,
            "align_self": null,
            "border": null,
            "bottom": null,
            "display": null,
            "flex": null,
            "flex_flow": null,
            "grid_area": null,
            "grid_auto_columns": null,
            "grid_auto_flow": null,
            "grid_auto_rows": null,
            "grid_column": null,
            "grid_gap": null,
            "grid_row": null,
            "grid_template_areas": null,
            "grid_template_columns": null,
            "grid_template_rows": null,
            "height": null,
            "justify_content": null,
            "justify_items": null,
            "left": null,
            "margin": null,
            "max_height": null,
            "max_width": null,
            "min_height": null,
            "min_width": null,
            "object_fit": null,
            "object_position": null,
            "order": null,
            "overflow": null,
            "overflow_x": null,
            "overflow_y": null,
            "padding": null,
            "right": null,
            "top": null,
            "visibility": null,
            "width": null
          }
        },
        "7906dc990fbc4384be62d2a3466c24d8": {
          "model_module": "@jupyter-widgets/controls",
          "model_module_version": "1.5.0",
          "model_name": "DescriptionStyleModel",
          "state": {
            "_model_module": "@jupyter-widgets/controls",
            "_model_module_version": "1.5.0",
            "_model_name": "DescriptionStyleModel",
            "_view_count": null,
            "_view_module": "@jupyter-widgets/base",
            "_view_module_version": "1.2.0",
            "_view_name": "StyleView",
            "description_width": ""
          }
        },
        "7b4e37f9166a4dbe82b973fbfee0a58e": {
          "model_module": "@jupyter-widgets/controls",
          "model_module_version": "1.5.0",
          "model_name": "FloatProgressModel",
          "state": {
            "_dom_classes": [],
            "_model_module": "@jupyter-widgets/controls",
            "_model_module_version": "1.5.0",
            "_model_name": "FloatProgressModel",
            "_view_count": null,
            "_view_module": "@jupyter-widgets/controls",
            "_view_module_version": "1.5.0",
            "_view_name": "ProgressView",
            "bar_style": "success",
            "description": "",
            "description_tooltip": null,
            "layout": "IPY_MODEL_b3547e56f87d4d7fb83434012004944a",
            "max": 1,
            "min": 0,
            "orientation": "horizontal",
            "style": "IPY_MODEL_38a502fd81ce45c492f4681aa65e9aa2",
            "value": 1
          }
        },
        "7b9432c5fed44a80ad833cac6b4ac4bd": {
          "model_module": "@jupyter-widgets/controls",
          "model_module_version": "1.5.0",
          "model_name": "HBoxModel",
          "state": {
            "_dom_classes": [],
            "_model_module": "@jupyter-widgets/controls",
            "_model_module_version": "1.5.0",
            "_model_name": "HBoxModel",
            "_view_count": null,
            "_view_module": "@jupyter-widgets/controls",
            "_view_module_version": "1.5.0",
            "_view_name": "HBoxView",
            "box_style": "",
            "children": [
              "IPY_MODEL_b9b5dff8e3454ba7afe8c823a8166ebd",
              "IPY_MODEL_7b4e37f9166a4dbe82b973fbfee0a58e",
              "IPY_MODEL_3c7005cfcbef4cf5b782ba215679249f"
            ],
            "layout": "IPY_MODEL_a51724da06a64a99813eaf9579543c95"
          }
        },
        "7c4a181b570b482ca903bc809c33cc73": {
          "model_module": "@jupyter-widgets/controls",
          "model_module_version": "1.5.0",
          "model_name": "HTMLModel",
          "state": {
            "_dom_classes": [],
            "_model_module": "@jupyter-widgets/controls",
            "_model_module_version": "1.5.0",
            "_model_name": "HTMLModel",
            "_view_count": null,
            "_view_module": "@jupyter-widgets/controls",
            "_view_module_version": "1.5.0",
            "_view_name": "HTMLView",
            "description": "",
            "description_tooltip": null,
            "layout": "IPY_MODEL_919ecc9d82b04cc1a43584357470ce8b",
            "placeholder": "​",
            "style": "IPY_MODEL_60cdc4a08f8e4b44b071a854609ae1a4",
            "value": " 310709/? [00:27&lt;00:00, 12391.10 examples/s]"
          }
        },
        "848f262c38e04b18b6a64a305bf2db51": {
          "model_module": "@jupyter-widgets/controls",
          "model_module_version": "1.5.0",
          "model_name": "DescriptionStyleModel",
          "state": {
            "_model_module": "@jupyter-widgets/controls",
            "_model_module_version": "1.5.0",
            "_model_name": "DescriptionStyleModel",
            "_view_count": null,
            "_view_module": "@jupyter-widgets/base",
            "_view_module_version": "1.2.0",
            "_view_name": "StyleView",
            "description_width": ""
          }
        },
        "878505de5ad34294ad7bb53e3a0a765f": {
          "model_module": "@jupyter-widgets/controls",
          "model_module_version": "1.5.0",
          "model_name": "HBoxModel",
          "state": {
            "_dom_classes": [],
            "_model_module": "@jupyter-widgets/controls",
            "_model_module_version": "1.5.0",
            "_model_name": "HBoxModel",
            "_view_count": null,
            "_view_module": "@jupyter-widgets/controls",
            "_view_module_version": "1.5.0",
            "_view_name": "HBoxView",
            "box_style": "",
            "children": [
              "IPY_MODEL_c9338df404e54c1e83a2819da95737b8",
              "IPY_MODEL_38c8ef116eee492a8f482687a85c74b4",
              "IPY_MODEL_7c4a181b570b482ca903bc809c33cc73"
            ],
            "layout": "IPY_MODEL_b75f5f31a62443e9aee6c02671d8f7f7"
          }
        },
        "8788e7c07c0342469c5950f8292c2111": {
          "model_module": "@jupyter-widgets/base",
          "model_module_version": "1.2.0",
          "model_name": "LayoutModel",
          "state": {
            "_model_module": "@jupyter-widgets/base",
            "_model_module_version": "1.2.0",
            "_model_name": "LayoutModel",
            "_view_count": null,
            "_view_module": "@jupyter-widgets/base",
            "_view_module_version": "1.2.0",
            "_view_name": "LayoutView",
            "align_content": null,
            "align_items": null,
            "align_self": null,
            "border": null,
            "bottom": null,
            "display": null,
            "flex": null,
            "flex_flow": null,
            "grid_area": null,
            "grid_auto_columns": null,
            "grid_auto_flow": null,
            "grid_auto_rows": null,
            "grid_column": null,
            "grid_gap": null,
            "grid_row": null,
            "grid_template_areas": null,
            "grid_template_columns": null,
            "grid_template_rows": null,
            "height": null,
            "justify_content": null,
            "justify_items": null,
            "left": null,
            "margin": null,
            "max_height": null,
            "max_width": null,
            "min_height": null,
            "min_width": null,
            "object_fit": null,
            "object_position": null,
            "order": null,
            "overflow": null,
            "overflow_x": null,
            "overflow_y": null,
            "padding": null,
            "right": null,
            "top": null,
            "visibility": null,
            "width": null
          }
        },
        "8b3fe7bbd99e4e22818e33062c6f44af": {
          "model_module": "@jupyter-widgets/controls",
          "model_module_version": "1.5.0",
          "model_name": "HTMLModel",
          "state": {
            "_dom_classes": [],
            "_model_module": "@jupyter-widgets/controls",
            "_model_module_version": "1.5.0",
            "_model_name": "HTMLModel",
            "_view_count": null,
            "_view_module": "@jupyter-widgets/controls",
            "_view_module_version": "1.5.0",
            "_view_name": "HTMLView",
            "description": "",
            "description_tooltip": null,
            "layout": "IPY_MODEL_e424aac192c34d60a81156c9181c4abc",
            "placeholder": "​",
            "style": "IPY_MODEL_7906dc990fbc4384be62d2a3466c24d8",
            "value": " 286170/311556 [00:01&lt;00:00, 382339.29 examples/s]"
          }
        },
        "919ecc9d82b04cc1a43584357470ce8b": {
          "model_module": "@jupyter-widgets/base",
          "model_module_version": "1.2.0",
          "model_name": "LayoutModel",
          "state": {
            "_model_module": "@jupyter-widgets/base",
            "_model_module_version": "1.2.0",
            "_model_name": "LayoutModel",
            "_view_count": null,
            "_view_module": "@jupyter-widgets/base",
            "_view_module_version": "1.2.0",
            "_view_name": "LayoutView",
            "align_content": null,
            "align_items": null,
            "align_self": null,
            "border": null,
            "bottom": null,
            "display": null,
            "flex": null,
            "flex_flow": null,
            "grid_area": null,
            "grid_auto_columns": null,
            "grid_auto_flow": null,
            "grid_auto_rows": null,
            "grid_column": null,
            "grid_gap": null,
            "grid_row": null,
            "grid_template_areas": null,
            "grid_template_columns": null,
            "grid_template_rows": null,
            "height": null,
            "justify_content": null,
            "justify_items": null,
            "left": null,
            "margin": null,
            "max_height": null,
            "max_width": null,
            "min_height": null,
            "min_width": null,
            "object_fit": null,
            "object_position": null,
            "order": null,
            "overflow": null,
            "overflow_x": null,
            "overflow_y": null,
            "padding": null,
            "right": null,
            "top": null,
            "visibility": null,
            "width": null
          }
        },
        "956a354b973b432c91d8eaed23e91087": {
          "model_module": "@jupyter-widgets/controls",
          "model_module_version": "1.5.0",
          "model_name": "DescriptionStyleModel",
          "state": {
            "_model_module": "@jupyter-widgets/controls",
            "_model_module_version": "1.5.0",
            "_model_name": "DescriptionStyleModel",
            "_view_count": null,
            "_view_module": "@jupyter-widgets/base",
            "_view_module_version": "1.2.0",
            "_view_name": "StyleView",
            "description_width": ""
          }
        },
        "95c3a314471b40a8bc0772be5f7f49a7": {
          "model_module": "@jupyter-widgets/controls",
          "model_module_version": "1.5.0",
          "model_name": "ProgressStyleModel",
          "state": {
            "_model_module": "@jupyter-widgets/controls",
            "_model_module_version": "1.5.0",
            "_model_name": "ProgressStyleModel",
            "_view_count": null,
            "_view_module": "@jupyter-widgets/base",
            "_view_module_version": "1.2.0",
            "_view_name": "StyleView",
            "bar_color": null,
            "description_width": ""
          }
        },
        "99ad056f991c4317a445aa6afcb4af9e": {
          "model_module": "@jupyter-widgets/controls",
          "model_module_version": "1.5.0",
          "model_name": "DescriptionStyleModel",
          "state": {
            "_model_module": "@jupyter-widgets/controls",
            "_model_module_version": "1.5.0",
            "_model_name": "DescriptionStyleModel",
            "_view_count": null,
            "_view_module": "@jupyter-widgets/base",
            "_view_module_version": "1.2.0",
            "_view_name": "StyleView",
            "description_width": ""
          }
        },
        "9bd5fd6e1da6464e98ac50da63acb796": {
          "model_module": "@jupyter-widgets/controls",
          "model_module_version": "1.5.0",
          "model_name": "HTMLModel",
          "state": {
            "_dom_classes": [],
            "_model_module": "@jupyter-widgets/controls",
            "_model_module_version": "1.5.0",
            "_model_name": "HTMLModel",
            "_view_count": null,
            "_view_module": "@jupyter-widgets/controls",
            "_view_module_version": "1.5.0",
            "_view_name": "HTMLView",
            "description": "",
            "description_tooltip": null,
            "layout": "IPY_MODEL_5bfc4dc3b6674db9a21a1051b4fa3760",
            "placeholder": "​",
            "style": "IPY_MODEL_37b76dd935e343408231a465c3a44227",
            "value": "Dl Completed...: 100%"
          }
        },
        "9bf05cc098074f68a398b263b212fd7c": {
          "model_module": "@jupyter-widgets/controls",
          "model_module_version": "1.5.0",
          "model_name": "HTMLModel",
          "state": {
            "_dom_classes": [],
            "_model_module": "@jupyter-widgets/controls",
            "_model_module_version": "1.5.0",
            "_model_name": "HTMLModel",
            "_view_count": null,
            "_view_module": "@jupyter-widgets/controls",
            "_view_module_version": "1.5.0",
            "_view_name": "HTMLView",
            "description": "",
            "description_tooltip": null,
            "layout": "IPY_MODEL_6d06900c679d4661b090a99b17a405f6",
            "placeholder": "​",
            "style": "IPY_MODEL_848f262c38e04b18b6a64a305bf2db51",
            "value": "Generating splits...: 100%"
          }
        },
        "9c0cbdf5165b498d8968e5f146085d55": {
          "model_module": "@jupyter-widgets/base",
          "model_module_version": "1.2.0",
          "model_name": "LayoutModel",
          "state": {
            "_model_module": "@jupyter-widgets/base",
            "_model_module_version": "1.2.0",
            "_model_name": "LayoutModel",
            "_view_count": null,
            "_view_module": "@jupyter-widgets/base",
            "_view_module_version": "1.2.0",
            "_view_name": "LayoutView",
            "align_content": null,
            "align_items": null,
            "align_self": null,
            "border": null,
            "bottom": null,
            "display": null,
            "flex": null,
            "flex_flow": null,
            "grid_area": null,
            "grid_auto_columns": null,
            "grid_auto_flow": null,
            "grid_auto_rows": null,
            "grid_column": null,
            "grid_gap": null,
            "grid_row": null,
            "grid_template_areas": null,
            "grid_template_columns": null,
            "grid_template_rows": null,
            "height": null,
            "justify_content": null,
            "justify_items": null,
            "left": null,
            "margin": null,
            "max_height": null,
            "max_width": null,
            "min_height": null,
            "min_width": null,
            "object_fit": null,
            "object_position": null,
            "order": null,
            "overflow": null,
            "overflow_x": null,
            "overflow_y": null,
            "padding": null,
            "right": null,
            "top": null,
            "visibility": "hidden",
            "width": null
          }
        },
        "9e47519fce5a4a7fbf89e7cfe6637134": {
          "model_module": "@jupyter-widgets/controls",
          "model_module_version": "1.5.0",
          "model_name": "DescriptionStyleModel",
          "state": {
            "_model_module": "@jupyter-widgets/controls",
            "_model_module_version": "1.5.0",
            "_model_name": "DescriptionStyleModel",
            "_view_count": null,
            "_view_module": "@jupyter-widgets/base",
            "_view_module_version": "1.2.0",
            "_view_name": "StyleView",
            "description_width": ""
          }
        },
        "9ec1cdeab2554188832ca29f167b232a": {
          "model_module": "@jupyter-widgets/controls",
          "model_module_version": "1.5.0",
          "model_name": "DescriptionStyleModel",
          "state": {
            "_model_module": "@jupyter-widgets/controls",
            "_model_module_version": "1.5.0",
            "_model_name": "DescriptionStyleModel",
            "_view_count": null,
            "_view_module": "@jupyter-widgets/base",
            "_view_module_version": "1.2.0",
            "_view_name": "StyleView",
            "description_width": ""
          }
        },
        "9fb33743a7b24da2a89989a424c39cf8": {
          "model_module": "@jupyter-widgets/controls",
          "model_module_version": "1.5.0",
          "model_name": "FloatProgressModel",
          "state": {
            "_dom_classes": [],
            "_model_module": "@jupyter-widgets/controls",
            "_model_module_version": "1.5.0",
            "_model_name": "FloatProgressModel",
            "_view_count": null,
            "_view_module": "@jupyter-widgets/controls",
            "_view_module_version": "1.5.0",
            "_view_name": "ProgressView",
            "bar_style": "",
            "description": "",
            "description_tooltip": null,
            "layout": "IPY_MODEL_abff5d01813440d6a7b0d697b5a645be",
            "max": 311556,
            "min": 0,
            "orientation": "horizontal",
            "style": "IPY_MODEL_5ee93fa0eb374382ad2edc3b8ae2d01b",
            "value": 311556
          }
        },
        "a0c1d729091a4e9e8bc1eaefbb15f834": {
          "model_module": "@jupyter-widgets/controls",
          "model_module_version": "1.5.0",
          "model_name": "FloatProgressModel",
          "state": {
            "_dom_classes": [],
            "_model_module": "@jupyter-widgets/controls",
            "_model_module_version": "1.5.0",
            "_model_name": "FloatProgressModel",
            "_view_count": null,
            "_view_module": "@jupyter-widgets/controls",
            "_view_module_version": "1.5.0",
            "_view_name": "ProgressView",
            "bar_style": "success",
            "description": "",
            "description_tooltip": null,
            "layout": "IPY_MODEL_a6ad00338196435d869a547f58086319",
            "max": 1,
            "min": 0,
            "orientation": "horizontal",
            "style": "IPY_MODEL_ab506a170b2d4f9db0056133da87c89d",
            "value": 1
          }
        },
        "a51724da06a64a99813eaf9579543c95": {
          "model_module": "@jupyter-widgets/base",
          "model_module_version": "1.2.0",
          "model_name": "LayoutModel",
          "state": {
            "_model_module": "@jupyter-widgets/base",
            "_model_module_version": "1.2.0",
            "_model_name": "LayoutModel",
            "_view_count": null,
            "_view_module": "@jupyter-widgets/base",
            "_view_module_version": "1.2.0",
            "_view_name": "LayoutView",
            "align_content": null,
            "align_items": null,
            "align_self": null,
            "border": null,
            "bottom": null,
            "display": null,
            "flex": null,
            "flex_flow": null,
            "grid_area": null,
            "grid_auto_columns": null,
            "grid_auto_flow": null,
            "grid_auto_rows": null,
            "grid_column": null,
            "grid_gap": null,
            "grid_row": null,
            "grid_template_areas": null,
            "grid_template_columns": null,
            "grid_template_rows": null,
            "height": null,
            "justify_content": null,
            "justify_items": null,
            "left": null,
            "margin": null,
            "max_height": null,
            "max_width": null,
            "min_height": null,
            "min_width": null,
            "object_fit": null,
            "object_position": null,
            "order": null,
            "overflow": null,
            "overflow_x": null,
            "overflow_y": null,
            "padding": null,
            "right": null,
            "top": null,
            "visibility": null,
            "width": null
          }
        },
        "a6ad00338196435d869a547f58086319": {
          "model_module": "@jupyter-widgets/base",
          "model_module_version": "1.2.0",
          "model_name": "LayoutModel",
          "state": {
            "_model_module": "@jupyter-widgets/base",
            "_model_module_version": "1.2.0",
            "_model_name": "LayoutModel",
            "_view_count": null,
            "_view_module": "@jupyter-widgets/base",
            "_view_module_version": "1.2.0",
            "_view_name": "LayoutView",
            "align_content": null,
            "align_items": null,
            "align_self": null,
            "border": null,
            "bottom": null,
            "display": null,
            "flex": null,
            "flex_flow": null,
            "grid_area": null,
            "grid_auto_columns": null,
            "grid_auto_flow": null,
            "grid_auto_rows": null,
            "grid_column": null,
            "grid_gap": null,
            "grid_row": null,
            "grid_template_areas": null,
            "grid_template_columns": null,
            "grid_template_rows": null,
            "height": null,
            "justify_content": null,
            "justify_items": null,
            "left": null,
            "margin": null,
            "max_height": null,
            "max_width": null,
            "min_height": null,
            "min_width": null,
            "object_fit": null,
            "object_position": null,
            "order": null,
            "overflow": null,
            "overflow_x": null,
            "overflow_y": null,
            "padding": null,
            "right": null,
            "top": null,
            "visibility": null,
            "width": "20px"
          }
        },
        "a901ea46ead84ea09e8adff2db7b951a": {
          "model_module": "@jupyter-widgets/controls",
          "model_module_version": "1.5.0",
          "model_name": "DescriptionStyleModel",
          "state": {
            "_model_module": "@jupyter-widgets/controls",
            "_model_module_version": "1.5.0",
            "_model_name": "DescriptionStyleModel",
            "_view_count": null,
            "_view_module": "@jupyter-widgets/base",
            "_view_module_version": "1.2.0",
            "_view_name": "StyleView",
            "description_width": ""
          }
        },
        "ab506a170b2d4f9db0056133da87c89d": {
          "model_module": "@jupyter-widgets/controls",
          "model_module_version": "1.5.0",
          "model_name": "ProgressStyleModel",
          "state": {
            "_model_module": "@jupyter-widgets/controls",
            "_model_module_version": "1.5.0",
            "_model_name": "ProgressStyleModel",
            "_view_count": null,
            "_view_module": "@jupyter-widgets/base",
            "_view_module_version": "1.2.0",
            "_view_name": "StyleView",
            "bar_color": null,
            "description_width": ""
          }
        },
        "abff5d01813440d6a7b0d697b5a645be": {
          "model_module": "@jupyter-widgets/base",
          "model_module_version": "1.2.0",
          "model_name": "LayoutModel",
          "state": {
            "_model_module": "@jupyter-widgets/base",
            "_model_module_version": "1.2.0",
            "_model_name": "LayoutModel",
            "_view_count": null,
            "_view_module": "@jupyter-widgets/base",
            "_view_module_version": "1.2.0",
            "_view_name": "LayoutView",
            "align_content": null,
            "align_items": null,
            "align_self": null,
            "border": null,
            "bottom": null,
            "display": null,
            "flex": null,
            "flex_flow": null,
            "grid_area": null,
            "grid_auto_columns": null,
            "grid_auto_flow": null,
            "grid_auto_rows": null,
            "grid_column": null,
            "grid_gap": null,
            "grid_row": null,
            "grid_template_areas": null,
            "grid_template_columns": null,
            "grid_template_rows": null,
            "height": null,
            "justify_content": null,
            "justify_items": null,
            "left": null,
            "margin": null,
            "max_height": null,
            "max_width": null,
            "min_height": null,
            "min_width": null,
            "object_fit": null,
            "object_position": null,
            "order": null,
            "overflow": null,
            "overflow_x": null,
            "overflow_y": null,
            "padding": null,
            "right": null,
            "top": null,
            "visibility": null,
            "width": null
          }
        },
        "afaf0e1f790e42aa94bc62e2d532d525": {
          "model_module": "@jupyter-widgets/controls",
          "model_module_version": "1.5.0",
          "model_name": "FloatProgressModel",
          "state": {
            "_dom_classes": [],
            "_model_module": "@jupyter-widgets/controls",
            "_model_module_version": "1.5.0",
            "_model_name": "FloatProgressModel",
            "_view_count": null,
            "_view_module": "@jupyter-widgets/controls",
            "_view_module_version": "1.5.0",
            "_view_name": "ProgressView",
            "bar_style": "success",
            "description": "",
            "description_tooltip": null,
            "layout": "IPY_MODEL_4d11d3ef14614fe6ae2c6d30a5f14401",
            "max": 1,
            "min": 0,
            "orientation": "horizontal",
            "style": "IPY_MODEL_2abe0d1c85e54764b9ec3d0b92563937",
            "value": 1
          }
        },
        "b3547e56f87d4d7fb83434012004944a": {
          "model_module": "@jupyter-widgets/base",
          "model_module_version": "1.2.0",
          "model_name": "LayoutModel",
          "state": {
            "_model_module": "@jupyter-widgets/base",
            "_model_module_version": "1.2.0",
            "_model_name": "LayoutModel",
            "_view_count": null,
            "_view_module": "@jupyter-widgets/base",
            "_view_module_version": "1.2.0",
            "_view_name": "LayoutView",
            "align_content": null,
            "align_items": null,
            "align_self": null,
            "border": null,
            "bottom": null,
            "display": null,
            "flex": null,
            "flex_flow": null,
            "grid_area": null,
            "grid_auto_columns": null,
            "grid_auto_flow": null,
            "grid_auto_rows": null,
            "grid_column": null,
            "grid_gap": null,
            "grid_row": null,
            "grid_template_areas": null,
            "grid_template_columns": null,
            "grid_template_rows": null,
            "height": null,
            "justify_content": null,
            "justify_items": null,
            "left": null,
            "margin": null,
            "max_height": null,
            "max_width": null,
            "min_height": null,
            "min_width": null,
            "object_fit": null,
            "object_position": null,
            "order": null,
            "overflow": null,
            "overflow_x": null,
            "overflow_y": null,
            "padding": null,
            "right": null,
            "top": null,
            "visibility": null,
            "width": "20px"
          }
        },
        "b3eaed5525724fbcbc2a21a328bd8665": {
          "model_module": "@jupyter-widgets/base",
          "model_module_version": "1.2.0",
          "model_name": "LayoutModel",
          "state": {
            "_model_module": "@jupyter-widgets/base",
            "_model_module_version": "1.2.0",
            "_model_name": "LayoutModel",
            "_view_count": null,
            "_view_module": "@jupyter-widgets/base",
            "_view_module_version": "1.2.0",
            "_view_name": "LayoutView",
            "align_content": null,
            "align_items": null,
            "align_self": null,
            "border": null,
            "bottom": null,
            "display": null,
            "flex": null,
            "flex_flow": null,
            "grid_area": null,
            "grid_auto_columns": null,
            "grid_auto_flow": null,
            "grid_auto_rows": null,
            "grid_column": null,
            "grid_gap": null,
            "grid_row": null,
            "grid_template_areas": null,
            "grid_template_columns": null,
            "grid_template_rows": null,
            "height": null,
            "justify_content": null,
            "justify_items": null,
            "left": null,
            "margin": null,
            "max_height": null,
            "max_width": null,
            "min_height": null,
            "min_width": null,
            "object_fit": null,
            "object_position": null,
            "order": null,
            "overflow": null,
            "overflow_x": null,
            "overflow_y": null,
            "padding": null,
            "right": null,
            "top": null,
            "visibility": null,
            "width": null
          }
        },
        "b75f5f31a62443e9aee6c02671d8f7f7": {
          "model_module": "@jupyter-widgets/base",
          "model_module_version": "1.2.0",
          "model_name": "LayoutModel",
          "state": {
            "_model_module": "@jupyter-widgets/base",
            "_model_module_version": "1.2.0",
            "_model_name": "LayoutModel",
            "_view_count": null,
            "_view_module": "@jupyter-widgets/base",
            "_view_module_version": "1.2.0",
            "_view_name": "LayoutView",
            "align_content": null,
            "align_items": null,
            "align_self": null,
            "border": null,
            "bottom": null,
            "display": null,
            "flex": null,
            "flex_flow": null,
            "grid_area": null,
            "grid_auto_columns": null,
            "grid_auto_flow": null,
            "grid_auto_rows": null,
            "grid_column": null,
            "grid_gap": null,
            "grid_row": null,
            "grid_template_areas": null,
            "grid_template_columns": null,
            "grid_template_rows": null,
            "height": null,
            "justify_content": null,
            "justify_items": null,
            "left": null,
            "margin": null,
            "max_height": null,
            "max_width": null,
            "min_height": null,
            "min_width": null,
            "object_fit": null,
            "object_position": null,
            "order": null,
            "overflow": null,
            "overflow_x": null,
            "overflow_y": null,
            "padding": null,
            "right": null,
            "top": null,
            "visibility": "hidden",
            "width": null
          }
        },
        "b993af6e04dd4eba9172b98402f42163": {
          "model_module": "@jupyter-widgets/controls",
          "model_module_version": "1.5.0",
          "model_name": "FloatProgressModel",
          "state": {
            "_dom_classes": [],
            "_model_module": "@jupyter-widgets/controls",
            "_model_module_version": "1.5.0",
            "_model_name": "FloatProgressModel",
            "_view_count": null,
            "_view_module": "@jupyter-widgets/controls",
            "_view_module_version": "1.5.0",
            "_view_name": "ProgressView",
            "bar_style": "",
            "description": "",
            "description_tooltip": null,
            "layout": "IPY_MODEL_03b6404437ed4808b69518c84f972754",
            "max": 1,
            "min": 0,
            "orientation": "horizontal",
            "style": "IPY_MODEL_95c3a314471b40a8bc0772be5f7f49a7",
            "value": 1
          }
        },
        "b9b5dff8e3454ba7afe8c823a8166ebd": {
          "model_module": "@jupyter-widgets/controls",
          "model_module_version": "1.5.0",
          "model_name": "HTMLModel",
          "state": {
            "_dom_classes": [],
            "_model_module": "@jupyter-widgets/controls",
            "_model_module_version": "1.5.0",
            "_model_name": "HTMLModel",
            "_view_count": null,
            "_view_module": "@jupyter-widgets/controls",
            "_view_module_version": "1.5.0",
            "_view_name": "HTMLView",
            "description": "",
            "description_tooltip": null,
            "layout": "IPY_MODEL_4b10c065dacd4d5692449cbba35da0b8",
            "placeholder": "​",
            "style": "IPY_MODEL_956a354b973b432c91d8eaed23e91087",
            "value": "Dl Size...: 100%"
          }
        },
        "bd366cd256944995ac6bc224b2a120c0": {
          "model_module": "@jupyter-widgets/base",
          "model_module_version": "1.2.0",
          "model_name": "LayoutModel",
          "state": {
            "_model_module": "@jupyter-widgets/base",
            "_model_module_version": "1.2.0",
            "_model_name": "LayoutModel",
            "_view_count": null,
            "_view_module": "@jupyter-widgets/base",
            "_view_module_version": "1.2.0",
            "_view_name": "LayoutView",
            "align_content": null,
            "align_items": null,
            "align_self": null,
            "border": null,
            "bottom": null,
            "display": null,
            "flex": null,
            "flex_flow": null,
            "grid_area": null,
            "grid_auto_columns": null,
            "grid_auto_flow": null,
            "grid_auto_rows": null,
            "grid_column": null,
            "grid_gap": null,
            "grid_row": null,
            "grid_template_areas": null,
            "grid_template_columns": null,
            "grid_template_rows": null,
            "height": null,
            "justify_content": null,
            "justify_items": null,
            "left": null,
            "margin": null,
            "max_height": null,
            "max_width": null,
            "min_height": null,
            "min_width": null,
            "object_fit": null,
            "object_position": null,
            "order": null,
            "overflow": null,
            "overflow_x": null,
            "overflow_y": null,
            "padding": null,
            "right": null,
            "top": null,
            "visibility": null,
            "width": null
          }
        },
        "c0d6e1aceb3743d8847c8d22d39b4e83": {
          "model_module": "@jupyter-widgets/controls",
          "model_module_version": "1.5.0",
          "model_name": "ProgressStyleModel",
          "state": {
            "_model_module": "@jupyter-widgets/controls",
            "_model_module_version": "1.5.0",
            "_model_name": "ProgressStyleModel",
            "_view_count": null,
            "_view_module": "@jupyter-widgets/base",
            "_view_module_version": "1.2.0",
            "_view_name": "StyleView",
            "bar_color": null,
            "description_width": ""
          }
        },
        "c518700810db456eb6121a31e740c2d6": {
          "model_module": "@jupyter-widgets/controls",
          "model_module_version": "1.5.0",
          "model_name": "ProgressStyleModel",
          "state": {
            "_model_module": "@jupyter-widgets/controls",
            "_model_module_version": "1.5.0",
            "_model_name": "ProgressStyleModel",
            "_view_count": null,
            "_view_module": "@jupyter-widgets/base",
            "_view_module_version": "1.2.0",
            "_view_name": "StyleView",
            "bar_color": null,
            "description_width": ""
          }
        },
        "c577e1a62c5c45c0a7c63668524f9251": {
          "model_module": "@jupyter-widgets/base",
          "model_module_version": "1.2.0",
          "model_name": "LayoutModel",
          "state": {
            "_model_module": "@jupyter-widgets/base",
            "_model_module_version": "1.2.0",
            "_model_name": "LayoutModel",
            "_view_count": null,
            "_view_module": "@jupyter-widgets/base",
            "_view_module_version": "1.2.0",
            "_view_name": "LayoutView",
            "align_content": null,
            "align_items": null,
            "align_self": null,
            "border": null,
            "bottom": null,
            "display": null,
            "flex": null,
            "flex_flow": null,
            "grid_area": null,
            "grid_auto_columns": null,
            "grid_auto_flow": null,
            "grid_auto_rows": null,
            "grid_column": null,
            "grid_gap": null,
            "grid_row": null,
            "grid_template_areas": null,
            "grid_template_columns": null,
            "grid_template_rows": null,
            "height": null,
            "justify_content": null,
            "justify_items": null,
            "left": null,
            "margin": null,
            "max_height": null,
            "max_width": null,
            "min_height": null,
            "min_width": null,
            "object_fit": null,
            "object_position": null,
            "order": null,
            "overflow": null,
            "overflow_x": null,
            "overflow_y": null,
            "padding": null,
            "right": null,
            "top": null,
            "visibility": null,
            "width": null
          }
        },
        "c82836cb80534e2ca23f812ed89b1544": {
          "model_module": "@jupyter-widgets/controls",
          "model_module_version": "1.5.0",
          "model_name": "DescriptionStyleModel",
          "state": {
            "_model_module": "@jupyter-widgets/controls",
            "_model_module_version": "1.5.0",
            "_model_name": "DescriptionStyleModel",
            "_view_count": null,
            "_view_module": "@jupyter-widgets/base",
            "_view_module_version": "1.2.0",
            "_view_name": "StyleView",
            "description_width": ""
          }
        },
        "c9338df404e54c1e83a2819da95737b8": {
          "model_module": "@jupyter-widgets/controls",
          "model_module_version": "1.5.0",
          "model_name": "HTMLModel",
          "state": {
            "_dom_classes": [],
            "_model_module": "@jupyter-widgets/controls",
            "_model_module_version": "1.5.0",
            "_model_name": "HTMLModel",
            "_view_count": null,
            "_view_module": "@jupyter-widgets/controls",
            "_view_module_version": "1.5.0",
            "_view_name": "HTMLView",
            "description": "",
            "description_tooltip": null,
            "layout": "IPY_MODEL_c577e1a62c5c45c0a7c63668524f9251",
            "placeholder": "​",
            "style": "IPY_MODEL_a901ea46ead84ea09e8adff2db7b951a",
            "value": "Generating train examples...: "
          }
        },
        "d6a09d169ff348eea57b0484d8f30ce3": {
          "model_module": "@jupyter-widgets/controls",
          "model_module_version": "1.5.0",
          "model_name": "HBoxModel",
          "state": {
            "_dom_classes": [],
            "_model_module": "@jupyter-widgets/controls",
            "_model_module_version": "1.5.0",
            "_model_name": "HBoxModel",
            "_view_count": null,
            "_view_module": "@jupyter-widgets/controls",
            "_view_module_version": "1.5.0",
            "_view_name": "HBoxView",
            "box_style": "",
            "children": [
              "IPY_MODEL_063f24abb78840fe81e5b3af62cdd91f",
              "IPY_MODEL_345a66c750a44b34997ce9158d32ec58",
              "IPY_MODEL_7482a467ba1f45e38589185827f01a5b"
            ],
            "layout": "IPY_MODEL_744cbf4df444443fa6f404baadcbc04a"
          }
        },
        "dce08377d7a44e17a25f389d17b5b0fa": {
          "model_module": "@jupyter-widgets/controls",
          "model_module_version": "1.5.0",
          "model_name": "HBoxModel",
          "state": {
            "_dom_classes": [],
            "_model_module": "@jupyter-widgets/controls",
            "_model_module_version": "1.5.0",
            "_model_name": "HBoxModel",
            "_view_count": null,
            "_view_module": "@jupyter-widgets/controls",
            "_view_module_version": "1.5.0",
            "_view_name": "HBoxView",
            "box_style": "",
            "children": [
              "IPY_MODEL_28680af4b2f744ebba46a0ae9c731e5a",
              "IPY_MODEL_9fb33743a7b24da2a89989a424c39cf8",
              "IPY_MODEL_8b3fe7bbd99e4e22818e33062c6f44af"
            ],
            "layout": "IPY_MODEL_9c0cbdf5165b498d8968e5f146085d55"
          }
        },
        "dd6df7ecba8a4562aeb02442dcd187d3": {
          "model_module": "@jupyter-widgets/controls",
          "model_module_version": "1.5.0",
          "model_name": "DescriptionStyleModel",
          "state": {
            "_model_module": "@jupyter-widgets/controls",
            "_model_module_version": "1.5.0",
            "_model_name": "DescriptionStyleModel",
            "_view_count": null,
            "_view_module": "@jupyter-widgets/base",
            "_view_module_version": "1.2.0",
            "_view_name": "StyleView",
            "description_width": ""
          }
        },
        "e256ab9f0f0b446d80f718b49d79cf44": {
          "model_module": "@jupyter-widgets/base",
          "model_module_version": "1.2.0",
          "model_name": "LayoutModel",
          "state": {
            "_model_module": "@jupyter-widgets/base",
            "_model_module_version": "1.2.0",
            "_model_name": "LayoutModel",
            "_view_count": null,
            "_view_module": "@jupyter-widgets/base",
            "_view_module_version": "1.2.0",
            "_view_name": "LayoutView",
            "align_content": null,
            "align_items": null,
            "align_self": null,
            "border": null,
            "bottom": null,
            "display": null,
            "flex": null,
            "flex_flow": null,
            "grid_area": null,
            "grid_auto_columns": null,
            "grid_auto_flow": null,
            "grid_auto_rows": null,
            "grid_column": null,
            "grid_gap": null,
            "grid_row": null,
            "grid_template_areas": null,
            "grid_template_columns": null,
            "grid_template_rows": null,
            "height": null,
            "justify_content": null,
            "justify_items": null,
            "left": null,
            "margin": null,
            "max_height": null,
            "max_width": null,
            "min_height": null,
            "min_width": null,
            "object_fit": null,
            "object_position": null,
            "order": null,
            "overflow": null,
            "overflow_x": null,
            "overflow_y": null,
            "padding": null,
            "right": null,
            "top": null,
            "visibility": null,
            "width": null
          }
        },
        "e424aac192c34d60a81156c9181c4abc": {
          "model_module": "@jupyter-widgets/base",
          "model_module_version": "1.2.0",
          "model_name": "LayoutModel",
          "state": {
            "_model_module": "@jupyter-widgets/base",
            "_model_module_version": "1.2.0",
            "_model_name": "LayoutModel",
            "_view_count": null,
            "_view_module": "@jupyter-widgets/base",
            "_view_module_version": "1.2.0",
            "_view_name": "LayoutView",
            "align_content": null,
            "align_items": null,
            "align_self": null,
            "border": null,
            "bottom": null,
            "display": null,
            "flex": null,
            "flex_flow": null,
            "grid_area": null,
            "grid_auto_columns": null,
            "grid_auto_flow": null,
            "grid_auto_rows": null,
            "grid_column": null,
            "grid_gap": null,
            "grid_row": null,
            "grid_template_areas": null,
            "grid_template_columns": null,
            "grid_template_rows": null,
            "height": null,
            "justify_content": null,
            "justify_items": null,
            "left": null,
            "margin": null,
            "max_height": null,
            "max_width": null,
            "min_height": null,
            "min_width": null,
            "object_fit": null,
            "object_position": null,
            "order": null,
            "overflow": null,
            "overflow_x": null,
            "overflow_y": null,
            "padding": null,
            "right": null,
            "top": null,
            "visibility": null,
            "width": null
          }
        },
        "f96ecc7299894f009bd7246962c96c16": {
          "model_module": "@jupyter-widgets/controls",
          "model_module_version": "1.5.0",
          "model_name": "DescriptionStyleModel",
          "state": {
            "_model_module": "@jupyter-widgets/controls",
            "_model_module_version": "1.5.0",
            "_model_name": "DescriptionStyleModel",
            "_view_count": null,
            "_view_module": "@jupyter-widgets/base",
            "_view_module_version": "1.2.0",
            "_view_name": "StyleView",
            "description_width": ""
          }
        },
        "ff9cf47b97104c0993c1141efce5a18b": {
          "model_module": "@jupyter-widgets/controls",
          "model_module_version": "1.5.0",
          "model_name": "HBoxModel",
          "state": {
            "_dom_classes": [],
            "_model_module": "@jupyter-widgets/controls",
            "_model_module_version": "1.5.0",
            "_model_name": "HBoxModel",
            "_view_count": null,
            "_view_module": "@jupyter-widgets/controls",
            "_view_module_version": "1.5.0",
            "_view_name": "HBoxView",
            "box_style": "",
            "children": [
              "IPY_MODEL_9bf05cc098074f68a398b263b212fd7c",
              "IPY_MODEL_b993af6e04dd4eba9172b98402f42163",
              "IPY_MODEL_5b81848a6f88455ebf57ac0d198930ee"
            ],
            "layout": "IPY_MODEL_4759ad05049545019d026d231a8fb58c"
          }
        }
      }
    }
  },
  "nbformat": 4,
  "nbformat_minor": 0
}
